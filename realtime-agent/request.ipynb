{
 "cells": [
  {
   "cell_type": "code",
   "execution_count": 1,
   "metadata": {},
   "outputs": [],
   "source": [
    "import requests\n",
    "import pandas as pd"
   ]
  },
  {
   "cell_type": "markdown",
   "metadata": {},
   "source": [
    "## Let say\n",
    "\n",
    "Let say, TWTR.csv is my realtime data (follow [realtime-evolution-strategy.ipynb](realtime-evolution-strategy.ipynb)), remember, we trained using `Close`, and `Volume` data.\n",
    "\n",
    "So every request means new daily data.\n",
    "\n",
    "You can improve the code to bind historical data with your own database or any websocket streaming data. Imagination is your limit now."
   ]
  },
  {
   "cell_type": "code",
   "execution_count": 2,
   "metadata": {},
   "outputs": [
    {
     "data": {
      "text/html": [
       "<div>\n",
       "<style scoped>\n",
       "    .dataframe tbody tr th:only-of-type {\n",
       "        vertical-align: middle;\n",
       "    }\n",
       "\n",
       "    .dataframe tbody tr th {\n",
       "        vertical-align: top;\n",
       "    }\n",
       "\n",
       "    .dataframe thead th {\n",
       "        text-align: right;\n",
       "    }\n",
       "</style>\n",
       "<table border=\"1\" class=\"dataframe\">\n",
       "  <thead>\n",
       "    <tr style=\"text-align: right;\">\n",
       "      <th></th>\n",
       "      <th>Date</th>\n",
       "      <th>Open</th>\n",
       "      <th>High</th>\n",
       "      <th>Low</th>\n",
       "      <th>Close</th>\n",
       "      <th>Adj Close</th>\n",
       "      <th>Volume</th>\n",
       "    </tr>\n",
       "  </thead>\n",
       "  <tbody>\n",
       "    <tr>\n",
       "      <td>0</td>\n",
       "      <td>2018-05-23</td>\n",
       "      <td>32.700001</td>\n",
       "      <td>33.430000</td>\n",
       "      <td>32.599998</td>\n",
       "      <td>33.419998</td>\n",
       "      <td>33.419998</td>\n",
       "      <td>13407500</td>\n",
       "    </tr>\n",
       "    <tr>\n",
       "      <td>1</td>\n",
       "      <td>2018-05-24</td>\n",
       "      <td>33.439999</td>\n",
       "      <td>33.759998</td>\n",
       "      <td>33.119999</td>\n",
       "      <td>33.520000</td>\n",
       "      <td>33.520000</td>\n",
       "      <td>14491900</td>\n",
       "    </tr>\n",
       "    <tr>\n",
       "      <td>2</td>\n",
       "      <td>2018-05-25</td>\n",
       "      <td>33.540001</td>\n",
       "      <td>33.990002</td>\n",
       "      <td>33.310001</td>\n",
       "      <td>33.630001</td>\n",
       "      <td>33.630001</td>\n",
       "      <td>10424400</td>\n",
       "    </tr>\n",
       "    <tr>\n",
       "      <td>3</td>\n",
       "      <td>2018-05-29</td>\n",
       "      <td>33.419998</td>\n",
       "      <td>34.830002</td>\n",
       "      <td>33.349998</td>\n",
       "      <td>34.040001</td>\n",
       "      <td>34.040001</td>\n",
       "      <td>22086700</td>\n",
       "    </tr>\n",
       "    <tr>\n",
       "      <td>4</td>\n",
       "      <td>2018-05-30</td>\n",
       "      <td>34.200001</td>\n",
       "      <td>34.660000</td>\n",
       "      <td>34.080002</td>\n",
       "      <td>34.360001</td>\n",
       "      <td>34.360001</td>\n",
       "      <td>14588200</td>\n",
       "    </tr>\n",
       "  </tbody>\n",
       "</table>\n",
       "</div>"
      ],
      "text/plain": [
       "         Date       Open       High        Low      Close  Adj Close    Volume\n",
       "0  2018-05-23  32.700001  33.430000  32.599998  33.419998  33.419998  13407500\n",
       "1  2018-05-24  33.439999  33.759998  33.119999  33.520000  33.520000  14491900\n",
       "2  2018-05-25  33.540001  33.990002  33.310001  33.630001  33.630001  10424400\n",
       "3  2018-05-29  33.419998  34.830002  33.349998  34.040001  34.040001  22086700\n",
       "4  2018-05-30  34.200001  34.660000  34.080002  34.360001  34.360001  14588200"
      ]
     },
     "execution_count": 2,
     "metadata": {},
     "output_type": "execute_result"
    }
   ],
   "source": [
    "df = pd.read_csv('TWTR.csv')\n",
    "df.head()"
   ]
  },
  {
   "cell_type": "code",
   "execution_count": 3,
   "metadata": {},
   "outputs": [],
   "source": [
    "close = df['Close'].tolist()\n",
    "volume = df['Volume'].tolist()"
   ]
  },
  {
   "cell_type": "markdown",
   "metadata": {},
   "source": [
    "## Check balance"
   ]
  },
  {
   "cell_type": "code",
   "execution_count": 4,
   "metadata": {},
   "outputs": [
    {
     "data": {
      "text/plain": [
       "93.51999599999999"
      ]
     },
     "execution_count": 4,
     "metadata": {},
     "output_type": "execute_result"
    }
   ],
   "source": [
    "requests.get('http://localhost:8005/balance').json()"
   ]
  },
  {
   "cell_type": "markdown",
   "metadata": {},
   "source": [
    "This is the initial capital we have for now, you can check [agent.ipynb](https://github.com/huseinzol05/Stock-Prediction-Models/blob/master/realtime-agent/agent.ipynb) how I defined it, or you can overwrite it."
   ]
  },
  {
   "cell_type": "markdown",
   "metadata": {},
   "source": [
    "## Trading"
   ]
  },
  {
   "cell_type": "code",
   "execution_count": 5,
   "metadata": {},
   "outputs": [
    {
     "data": {
      "text/plain": [
       "'[33.419998, 13407500]'"
      ]
     },
     "execution_count": 5,
     "metadata": {},
     "output_type": "execute_result"
    }
   ],
   "source": [
    "import json\n",
    "\n",
    "data = json.dumps([close[0], volume[0]])\n",
    "data"
   ]
  },
  {
   "cell_type": "markdown",
   "metadata": {},
   "source": [
    "Remember, my last training session was only used `Close` and `Volume`, you need to edit it to accept any kind of parameters."
   ]
  },
  {
   "cell_type": "code",
   "execution_count": 6,
   "metadata": {},
   "outputs": [
    {
     "data": {
      "text/plain": [
       "{'action': 'fail',\n",
       " 'balance': 93.51999599999999,\n",
       " 'status': 'data not enough to trade',\n",
       " 'timestamp': '2019-10-06 01:45:16.798337'}"
      ]
     },
     "execution_count": 6,
     "metadata": {},
     "output_type": "execute_result"
    }
   ],
   "source": [
    "requests.get('http://localhost:8005/trade?data='+data).json()"
   ]
  },
  {
   "cell_type": "markdown",
   "metadata": {},
   "source": [
    "Reason why you got 'data not enough to trade', because, the agent waiting another data to complete the queue, atleast same as `window_size` size.\n",
    "\n",
    "Last time I defined `window_size` is 20, means, it only look back 20 historical data to trade."
   ]
  },
  {
   "cell_type": "markdown",
   "metadata": {},
   "source": [
    "Assume now, you have 100 times new datapoints going in, you want to trade these datapoints."
   ]
  },
  {
   "cell_type": "code",
   "execution_count": 7,
   "metadata": {},
   "outputs": [
    {
     "name": "stdout",
     "output_type": "stream",
     "text": [
      "{'action': 'fail', 'balance': 93.51999599999999, 'status': 'data not enough to trade', 'timestamp': '2019-10-06 01:45:16.813474'}\n",
      "{'action': 'fail', 'balance': 93.51999599999999, 'status': 'data not enough to trade', 'timestamp': '2019-10-06 01:45:16.818838'}\n",
      "{'action': 'fail', 'balance': 93.51999599999999, 'status': 'data not enough to trade', 'timestamp': '2019-10-06 01:45:16.822998'}\n",
      "{'action': 'fail', 'balance': 93.51999599999999, 'status': 'data not enough to trade', 'timestamp': '2019-10-06 01:45:16.827975'}\n",
      "{'action': 'fail', 'balance': 93.51999599999999, 'status': 'data not enough to trade', 'timestamp': '2019-10-06 01:45:16.832116'}\n",
      "{'action': 'fail', 'balance': 93.51999599999999, 'status': 'data not enough to trade', 'timestamp': '2019-10-06 01:45:16.837134'}\n",
      "{'action': 'fail', 'balance': 93.51999599999999, 'status': 'data not enough to trade', 'timestamp': '2019-10-06 01:45:16.841224'}\n",
      "{'action': 'fail', 'balance': 93.51999599999999, 'status': 'data not enough to trade', 'timestamp': '2019-10-06 01:45:16.845269'}\n",
      "{'action': 'fail', 'balance': 93.51999599999999, 'status': 'data not enough to trade', 'timestamp': '2019-10-06 01:45:16.849686'}\n",
      "{'action': 'fail', 'balance': 93.51999599999999, 'status': 'data not enough to trade', 'timestamp': '2019-10-06 01:45:16.853753'}\n",
      "{'action': 'fail', 'balance': 93.51999599999999, 'status': 'data not enough to trade', 'timestamp': '2019-10-06 01:45:16.857839'}\n",
      "{'action': 'fail', 'balance': 93.51999599999999, 'status': 'data not enough to trade', 'timestamp': '2019-10-06 01:45:16.862213'}\n",
      "{'action': 'fail', 'balance': 93.51999599999999, 'status': 'data not enough to trade', 'timestamp': '2019-10-06 01:45:16.867298'}\n",
      "{'action': 'fail', 'balance': 93.51999599999999, 'status': 'data not enough to trade', 'timestamp': '2019-10-06 01:45:16.871213'}\n",
      "{'action': 'fail', 'balance': 93.51999599999999, 'status': 'data not enough to trade', 'timestamp': '2019-10-06 01:45:16.875340'}\n",
      "{'action': 'fail', 'balance': 93.51999599999999, 'status': 'data not enough to trade', 'timestamp': '2019-10-06 01:45:16.879453'}\n",
      "{'action': 'fail', 'balance': 93.51999599999999, 'status': 'data not enough to trade', 'timestamp': '2019-10-06 01:45:16.883559'}\n",
      "{'action': 'nothing', 'balance': 93.51999599999999, 'status': 'do nothing', 'timestamp': '2019-10-06 01:45:16.897321'}\n",
      "{'action': 'buy', 'balance': 48.56999499999999, 'status': 'buy 1 unit, cost 44.950001', 'timestamp': '2019-10-06 01:45:16.902470'}\n",
      "{'action': 'buy', 'balance': 2.4399939999999916, 'status': 'buy 1 unit, cost 46.130001', 'timestamp': '2019-10-06 01:45:16.907088'}\n",
      "{'action': 'nothing', 'balance': 2.4399939999999916, 'status': 'do nothing', 'timestamp': '2019-10-06 01:45:16.912241'}\n",
      "{'action': 'nothing', 'balance': 2.4399939999999916, 'status': 'do nothing', 'timestamp': '2019-10-06 01:45:16.917330'}\n",
      "{'action': 'nothing', 'balance': 2.4399939999999916, 'status': 'do nothing', 'timestamp': '2019-10-06 01:45:16.921976'}\n",
      "{'action': 'nothing', 'balance': 2.4399939999999916, 'status': 'do nothing', 'timestamp': '2019-10-06 01:45:16.927291'}\n",
      "{'action': 'nothing', 'balance': 2.4399939999999916, 'status': 'do nothing', 'timestamp': '2019-10-06 01:45:16.932968'}\n",
      "{'action': 'nothing', 'balance': 2.4399939999999916, 'status': 'do nothing', 'timestamp': '2019-10-06 01:45:16.937916'}\n",
      "{'action': 'nothing', 'balance': 2.4399939999999916, 'status': 'do nothing', 'timestamp': '2019-10-06 01:45:16.942938'}\n",
      "{'action': 'nothing', 'balance': 2.4399939999999916, 'status': 'do nothing', 'timestamp': '2019-10-06 01:45:16.947555'}\n",
      "{'action': 'nothing', 'balance': 2.4399939999999916, 'status': 'do nothing', 'timestamp': '2019-10-06 01:45:16.952664'}\n",
      "{'action': 'nothing', 'balance': 2.4399939999999916, 'status': 'do nothing', 'timestamp': '2019-10-06 01:45:16.957409'}\n",
      "{'action': 'nothing', 'balance': 2.4399939999999916, 'status': 'do nothing', 'timestamp': '2019-10-06 01:45:16.962332'}\n",
      "{'action': 'nothing', 'balance': 2.4399939999999916, 'status': 'do nothing', 'timestamp': '2019-10-06 01:45:16.967062'}\n",
      "{'action': 'nothing', 'balance': 2.4399939999999916, 'status': 'do nothing', 'timestamp': '2019-10-06 01:45:16.972320'}\n",
      "{'action': 'nothing', 'balance': 2.4399939999999916, 'status': 'do nothing', 'timestamp': '2019-10-06 01:45:16.977406'}\n",
      "{'action': 'nothing', 'balance': 2.4399939999999916, 'status': 'do nothing', 'timestamp': '2019-10-06 01:45:16.982143'}\n",
      "{'action': 'nothing', 'balance': 2.4399939999999916, 'status': 'do nothing', 'timestamp': '2019-10-06 01:45:16.987300'}\n",
      "{'action': 'sell', 'balance': 46.69999199999999, 'gain': -0.6900030000000044, 'investment': -1.5350455720790848, 'status': 'sell 1 unit, price 44.259998', 'timestamp': '2019-10-06 01:45:16.992479'}\n",
      "{'action': 'nothing', 'balance': 46.69999199999999, 'status': 'do nothing', 'timestamp': '2019-10-06 01:45:16.997279'}\n",
      "{'action': 'buy', 'balance': 3.359991999999984, 'status': 'buy 1 unit, cost 43.340000', 'timestamp': '2019-10-06 01:45:17.002555'}\n",
      "{'action': 'nothing', 'balance': 3.359991999999984, 'status': 'do nothing', 'timestamp': '2019-10-06 01:45:17.007097'}\n",
      "{'action': 'nothing', 'balance': 3.359991999999984, 'status': 'do nothing', 'timestamp': '2019-10-06 01:45:17.012002'}\n",
      "{'action': 'nothing', 'balance': 3.359991999999984, 'status': 'do nothing', 'timestamp': '2019-10-06 01:45:17.017230'}\n",
      "{'action': 'sell', 'balance': 45.529989999999984, 'gain': -3.9600030000000004, 'investment': -8.584441608834997, 'status': 'sell 1 unit, price 42.169998', 'timestamp': '2019-10-06 01:45:17.023217'}\n",
      "{'action': 'nothing', 'balance': 45.529989999999984, 'status': 'do nothing', 'timestamp': '2019-10-06 01:45:17.028984'}\n",
      "{'action': 'sell', 'balance': 88.46998899999998, 'gain': -0.40000100000000316, 'investment': -0.9229372404245573, 'status': 'sell 1 unit, price 42.939999', 'timestamp': '2019-10-06 01:45:17.034527'}\n",
      "{'action': 'nothing', 'balance': 88.46998899999998, 'status': 'do nothing', 'timestamp': '2019-10-06 01:45:17.039369'}\n",
      "{'action': 'buy', 'balance': 57.089989999999986, 'status': 'buy 1 unit, cost 31.379999', 'timestamp': '2019-10-06 01:45:17.044715'}\n",
      "{'action': 'nothing', 'balance': 57.089989999999986, 'status': 'do nothing', 'timestamp': '2019-10-06 01:45:17.049407'}\n",
      "{'action': 'nothing', 'balance': 57.089989999999986, 'status': 'do nothing', 'timestamp': '2019-10-06 01:45:17.054651'}\n",
      "{'action': 'nothing', 'balance': 57.089989999999986, 'status': 'do nothing', 'timestamp': '2019-10-06 01:45:17.059730'}\n",
      "{'action': 'nothing', 'balance': 57.089989999999986, 'status': 'do nothing', 'timestamp': '2019-10-06 01:45:17.064323'}\n",
      "{'action': 'nothing', 'balance': 57.089989999999986, 'status': 'do nothing', 'timestamp': '2019-10-06 01:45:17.069618'}\n",
      "{'action': 'nothing', 'balance': 57.089989999999986, 'status': 'do nothing', 'timestamp': '2019-10-06 01:45:17.074960'}\n",
      "{'action': 'nothing', 'balance': 57.089989999999986, 'status': 'do nothing', 'timestamp': '2019-10-06 01:45:17.079515'}\n",
      "{'action': 'nothing', 'balance': 57.089989999999986, 'status': 'do nothing', 'timestamp': '2019-10-06 01:45:17.084756'}\n",
      "{'action': 'nothing', 'balance': 57.089989999999986, 'status': 'do nothing', 'timestamp': '2019-10-06 01:45:17.089261'}\n",
      "{'action': 'nothing', 'balance': 57.089989999999986, 'status': 'do nothing', 'timestamp': '2019-10-06 01:45:17.094192'}\n",
      "{'action': 'nothing', 'balance': 57.089989999999986, 'status': 'do nothing', 'timestamp': '2019-10-06 01:45:17.098958'}\n",
      "{'action': 'nothing', 'balance': 57.089989999999986, 'status': 'do nothing', 'timestamp': '2019-10-06 01:45:17.104206'}\n",
      "{'action': 'nothing', 'balance': 57.089989999999986, 'status': 'do nothing', 'timestamp': '2019-10-06 01:45:17.109180'}\n",
      "{'action': 'sell', 'balance': 89.81998999999999, 'gain': 1.3500010000000024, 'investment': 4.3021065743182545, 'status': 'sell 1 unit, price 32.730000', 'timestamp': '2019-10-06 01:45:17.113970'}\n",
      "{'action': 'nothing', 'balance': 89.81998999999999, 'status': 'do nothing', 'timestamp': '2019-10-06 01:45:17.119062'}\n",
      "{'action': 'nothing', 'balance': 89.81998999999999, 'status': 'do nothing', 'timestamp': '2019-10-06 01:45:17.123697'}\n",
      "{'action': 'nothing', 'balance': 89.81998999999999, 'status': 'do nothing', 'timestamp': '2019-10-06 01:45:17.128567'}\n",
      "{'action': 'nothing', 'balance': 89.81998999999999, 'status': 'do nothing', 'timestamp': '2019-10-06 01:45:17.133822'}\n",
      "{'action': 'nothing', 'balance': 89.81998999999999, 'status': 'do nothing', 'timestamp': '2019-10-06 01:45:17.138718'}\n",
      "{'action': 'nothing', 'balance': 89.81998999999999, 'status': 'do nothing', 'timestamp': '2019-10-06 01:45:17.143640'}\n",
      "{'action': 'nothing', 'balance': 89.81998999999999, 'status': 'do nothing', 'timestamp': '2019-10-06 01:45:17.148383'}\n",
      "{'action': 'buy', 'balance': 54.46999199999999, 'status': 'buy 1 unit, cost 35.349998', 'timestamp': '2019-10-06 01:45:17.153533'}\n",
      "{'action': 'sell', 'balance': 90.10999099999998, 'gain': 0.2900009999999966, 'investment': 0.8203706263293045, 'status': 'sell 1 unit, price 35.639999', 'timestamp': '2019-10-06 01:45:17.158505'}\n",
      "{'action': 'buy', 'balance': 54.92999099999998, 'status': 'buy 1 unit, cost 35.180000', 'timestamp': '2019-10-06 01:45:17.163234'}\n",
      "{'action': 'buy', 'balance': 20.089990999999976, 'status': 'buy 1 unit, cost 34.840000', 'timestamp': '2019-10-06 01:45:17.168461'}\n",
      "{'action': 'nothing', 'balance': 20.089990999999976, 'status': 'do nothing', 'timestamp': '2019-10-06 01:45:17.173493'}\n",
      "{'action': 'buy', 'balance': -10.720008000000021, 'status': 'buy 1 unit, cost 30.809999', 'timestamp': '2019-10-06 01:45:17.179038'}\n",
      "{'action': 'nothing', 'balance': -10.720008000000021, 'status': 'do nothing', 'timestamp': '2019-10-06 01:45:17.184419'}\n",
      "{'action': 'nothing', 'balance': -10.720008000000021, 'status': 'do nothing', 'timestamp': '2019-10-06 01:45:17.189947'}\n",
      "{'action': 'nothing', 'balance': -10.720008000000021, 'status': 'do nothing', 'timestamp': '2019-10-06 01:45:17.195685'}\n",
      "{'action': 'sell', 'balance': 19.02999199999998, 'gain': -5.43, 'investment': -15.434906196702672, 'status': 'sell 1 unit, price 29.750000', 'timestamp': '2019-10-06 01:45:17.200345'}\n",
      "{'action': 'nothing', 'balance': 19.02999199999998, 'status': 'do nothing', 'timestamp': '2019-10-06 01:45:17.204831'}\n",
      "{'action': 'buy', 'balance': -11.090009000000023, 'status': 'buy 1 unit, cost 30.120001', 'timestamp': '2019-10-06 01:45:17.209442'}\n",
      "{'action': 'nothing', 'balance': -11.090009000000023, 'status': 'do nothing', 'timestamp': '2019-10-06 01:45:17.213962'}\n"
     ]
    },
    {
     "name": "stdout",
     "output_type": "stream",
     "text": [
      "{'action': 'nothing', 'balance': -11.090009000000023, 'status': 'do nothing', 'timestamp': '2019-10-06 01:45:17.218555'}\n",
      "{'action': 'nothing', 'balance': -11.090009000000023, 'status': 'do nothing', 'timestamp': '2019-10-06 01:45:17.224493'}\n",
      "{'action': 'nothing', 'balance': -11.090009000000023, 'status': 'do nothing', 'timestamp': '2019-10-06 01:45:17.230658'}\n",
      "{'action': 'nothing', 'balance': -11.090009000000023, 'status': 'do nothing', 'timestamp': '2019-10-06 01:45:17.236333'}\n",
      "{'action': 'nothing', 'balance': -11.090009000000023, 'status': 'do nothing', 'timestamp': '2019-10-06 01:45:17.240934'}\n",
      "{'action': 'nothing', 'balance': -11.090009000000023, 'status': 'do nothing', 'timestamp': '2019-10-06 01:45:17.245450'}\n",
      "{'action': 'nothing', 'balance': -11.090009000000023, 'status': 'do nothing', 'timestamp': '2019-10-06 01:45:17.250473'}\n",
      "{'action': 'nothing', 'balance': -11.090009000000023, 'status': 'do nothing', 'timestamp': '2019-10-06 01:45:17.254972'}\n",
      "{'action': 'sell', 'balance': 17.369989999999977, 'gain': -6.380001000000004, 'investment': -18.31228760045925, 'status': 'sell 1 unit, price 28.459999', 'timestamp': '2019-10-06 01:45:17.259675'}\n",
      "{'action': 'sell', 'balance': 45.67998899999998, 'gain': -2.4999999999999964, 'investment': -8.114248883941857, 'status': 'sell 1 unit, price 28.309999', 'timestamp': '2019-10-06 01:45:17.264378'}\n",
      "{'action': 'nothing', 'balance': 45.67998899999998, 'status': 'do nothing', 'timestamp': '2019-10-06 01:45:17.268989'}\n",
      "{'action': 'nothing', 'balance': 45.67998899999998, 'status': 'do nothing', 'timestamp': '2019-10-06 01:45:17.273479'}\n",
      "{'action': 'nothing', 'balance': 45.67998899999998, 'status': 'do nothing', 'timestamp': '2019-10-06 01:45:17.278214'}\n",
      "{'action': 'sell', 'balance': 74.06998799999998, 'gain': -1.7300020000000025, 'investment': -5.743698348482798, 'status': 'sell 1 unit, price 28.389999', 'timestamp': '2019-10-06 01:45:17.282848'}\n",
      "{'action': 'nothing', 'balance': 74.06998799999998, 'status': 'do nothing', 'timestamp': '2019-10-06 01:45:17.287380'}\n",
      "{'action': 'nothing', 'balance': 74.06998799999998, 'status': 'do nothing', 'timestamp': '2019-10-06 01:45:17.291896'}\n",
      "{'action': 'nothing', 'balance': 74.06998799999998, 'status': 'do nothing', 'timestamp': '2019-10-06 01:45:17.296335'}\n",
      "{'action': 'nothing', 'balance': 74.06998799999998, 'status': 'do nothing', 'timestamp': '2019-10-06 01:45:17.300814'}\n",
      "{'action': 'nothing', 'balance': 74.06998799999998, 'status': 'do nothing', 'timestamp': '2019-10-06 01:45:17.305817'}\n",
      "{'action': 'nothing', 'balance': 74.06998799999998, 'status': 'do nothing', 'timestamp': '2019-10-06 01:45:17.310315'}\n",
      "{'action': 'nothing', 'balance': 74.06998799999998, 'status': 'do nothing', 'timestamp': '2019-10-06 01:45:17.314919'}\n",
      "{'action': 'nothing', 'balance': 74.06998799999998, 'status': 'do nothing', 'timestamp': '2019-10-06 01:45:17.319360'}\n",
      "{'action': 'nothing', 'balance': 74.06998799999998, 'status': 'do nothing', 'timestamp': '2019-10-06 01:45:17.323801'}\n",
      "{'action': 'buy', 'balance': 45.23998799999998, 'status': 'buy 1 unit, cost 28.830000', 'timestamp': '2019-10-06 01:45:17.328284'}\n",
      "{'action': 'sell', 'balance': 74.41998799999999, 'gain': 0.3500000000000014, 'investment': 1.2140131807145385, 'status': 'sell 1 unit, price 29.180000', 'timestamp': '2019-10-06 01:45:17.333074'}\n",
      "{'action': 'nothing', 'balance': 74.41998799999999, 'status': 'do nothing', 'timestamp': '2019-10-06 01:45:17.337474'}\n",
      "{'action': 'buy', 'balance': 46.879986999999986, 'status': 'buy 1 unit, cost 27.540001', 'timestamp': '2019-10-06 01:45:17.342010'}\n",
      "{'action': 'sell', 'balance': 78.67998599999999, 'gain': 4.2599979999999995, 'investment': 15.468401762222156, 'status': 'sell 1 unit, price 31.799999', 'timestamp': '2019-10-06 01:45:17.347017'}\n",
      "{'action': 'buy', 'balance': 46.31998499999998, 'status': 'buy 1 unit, cost 32.360001', 'timestamp': '2019-10-06 01:45:17.351591'}\n",
      "{'action': 'buy', 'balance': 13.929985999999985, 'status': 'buy 1 unit, cost 32.389999', 'timestamp': '2019-10-06 01:45:17.356077'}\n",
      "{'action': 'nothing', 'balance': 13.929985999999985, 'status': 'do nothing', 'timestamp': '2019-10-06 01:45:17.360986'}\n",
      "{'action': 'nothing', 'balance': 13.929985999999985, 'status': 'do nothing', 'timestamp': '2019-10-06 01:45:17.365451'}\n",
      "{'action': 'nothing', 'balance': 13.929985999999985, 'status': 'do nothing', 'timestamp': '2019-10-06 01:45:17.370026'}\n",
      "{'action': 'nothing', 'balance': 13.929985999999985, 'status': 'do nothing', 'timestamp': '2019-10-06 01:45:17.374683'}\n",
      "{'action': 'nothing', 'balance': 13.929985999999985, 'status': 'do nothing', 'timestamp': '2019-10-06 01:45:17.379171'}\n",
      "{'action': 'nothing', 'balance': 13.929985999999985, 'status': 'do nothing', 'timestamp': '2019-10-06 01:45:17.383784'}\n",
      "{'action': 'nothing', 'balance': 13.929985999999985, 'status': 'do nothing', 'timestamp': '2019-10-06 01:45:17.388466'}\n",
      "{'action': 'nothing', 'balance': 13.929985999999985, 'status': 'do nothing', 'timestamp': '2019-10-06 01:45:17.392981'}\n",
      "{'action': 'nothing', 'balance': 13.929985999999985, 'status': 'do nothing', 'timestamp': '2019-10-06 01:45:17.397552'}\n",
      "{'action': 'nothing', 'balance': 13.929985999999985, 'status': 'do nothing', 'timestamp': '2019-10-06 01:45:17.402121'}\n",
      "{'action': 'nothing', 'balance': 13.929985999999985, 'status': 'do nothing', 'timestamp': '2019-10-06 01:45:17.406539'}\n",
      "{'action': 'nothing', 'balance': 13.929985999999985, 'status': 'do nothing', 'timestamp': '2019-10-06 01:45:17.411064'}\n",
      "{'action': 'nothing', 'balance': 13.929985999999985, 'status': 'do nothing', 'timestamp': '2019-10-06 01:45:17.415637'}\n",
      "{'action': 'nothing', 'balance': 13.929985999999985, 'status': 'do nothing', 'timestamp': '2019-10-06 01:45:17.420226'}\n",
      "{'action': 'nothing', 'balance': 13.929985999999985, 'status': 'do nothing', 'timestamp': '2019-10-06 01:45:17.426084'}\n",
      "{'action': 'nothing', 'balance': 13.929985999999985, 'status': 'do nothing', 'timestamp': '2019-10-06 01:45:17.432242'}\n",
      "{'action': 'nothing', 'balance': 13.929985999999985, 'status': 'do nothing', 'timestamp': '2019-10-06 01:45:17.437669'}\n",
      "{'action': 'nothing', 'balance': 13.929985999999985, 'status': 'do nothing', 'timestamp': '2019-10-06 01:45:17.442475'}\n",
      "{'action': 'nothing', 'balance': 13.929985999999985, 'status': 'do nothing', 'timestamp': '2019-10-06 01:45:17.447029'}\n",
      "{'action': 'nothing', 'balance': 13.929985999999985, 'status': 'do nothing', 'timestamp': '2019-10-06 01:45:17.451867'}\n",
      "{'action': 'nothing', 'balance': 13.929985999999985, 'status': 'do nothing', 'timestamp': '2019-10-06 01:45:17.456278'}\n",
      "{'action': 'nothing', 'balance': 13.929985999999985, 'status': 'do nothing', 'timestamp': '2019-10-06 01:45:17.460746'}\n",
      "{'action': 'nothing', 'balance': 13.929985999999985, 'status': 'do nothing', 'timestamp': '2019-10-06 01:45:17.465223'}\n",
      "{'action': 'sell', 'balance': 47.58998599999998, 'gain': 1.2999989999999926, 'investment': 4.017302100825004, 'status': 'sell 1 unit, price 33.660000', 'timestamp': '2019-10-06 01:45:17.470155'}\n",
      "{'action': 'nothing', 'balance': 47.58998599999998, 'status': 'do nothing', 'timestamp': '2019-10-06 01:45:17.474622'}\n",
      "{'action': 'sell', 'balance': 80.54998499999998, 'gain': 0.5700000000000003, 'investment': 1.759802462482325, 'status': 'sell 1 unit, price 32.959999', 'timestamp': '2019-10-06 01:45:17.479420'}\n",
      "{'action': 'nothing', 'balance': 80.54998499999998, 'status': 'do nothing', 'timestamp': '2019-10-06 01:45:17.484051'}\n",
      "{'action': 'nothing', 'balance': 80.54998499999998, 'status': 'do nothing', 'timestamp': '2019-10-06 01:45:17.488493'}\n",
      "{'action': 'buy', 'balance': 46.09998399999998, 'status': 'buy 1 unit, cost 34.450001', 'timestamp': '2019-10-06 01:45:17.493095'}\n",
      "{'action': 'nothing', 'balance': 46.09998399999998, 'status': 'do nothing', 'timestamp': '2019-10-06 01:45:17.497845'}\n",
      "{'action': 'buy', 'balance': 10.209984999999982, 'status': 'buy 1 unit, cost 35.889999', 'timestamp': '2019-10-06 01:45:17.502303'}\n",
      "{'action': 'sell', 'balance': 46.07998399999998, 'gain': 1.4199979999999996, 'investment': 4.121909894864734, 'status': 'sell 1 unit, price 35.869999', 'timestamp': '2019-10-06 01:45:17.506828'}\n",
      "{'action': 'sell', 'balance': 79.50998399999997, 'gain': -2.4599989999999963, 'investment': -6.854274362058345, 'status': 'sell 1 unit, price 33.430000', 'timestamp': '2019-10-06 01:45:17.511433'}\n",
      "{'action': 'buy', 'balance': 45.76998199999997, 'status': 'buy 1 unit, cost 33.740002', 'timestamp': '2019-10-06 01:45:17.515898'}\n",
      "{'action': 'buy', 'balance': 12.83998199999997, 'status': 'buy 1 unit, cost 32.930000', 'timestamp': '2019-10-06 01:45:17.520346'}\n",
      "{'action': 'nothing', 'balance': 12.83998199999997, 'status': 'do nothing', 'timestamp': '2019-10-06 01:45:17.525044'}\n",
      "{'action': 'nothing', 'balance': 12.83998199999997, 'status': 'do nothing', 'timestamp': '2019-10-06 01:45:17.529629'}\n",
      "{'action': 'nothing', 'balance': 12.83998199999997, 'status': 'do nothing', 'timestamp': '2019-10-06 01:45:17.534222'}\n",
      "{'action': 'sell', 'balance': 41.499981999999974, 'gain': -5.080002000000004, 'investment': -15.056318016815776, 'status': 'sell 1 unit, price 28.660000', 'timestamp': '2019-10-06 01:45:17.538819'}\n",
      "{'action': 'nothing', 'balance': 41.499981999999974, 'status': 'do nothing', 'timestamp': '2019-10-06 01:45:17.543377'}\n",
      "{'action': 'nothing', 'balance': 41.499981999999974, 'status': 'do nothing', 'timestamp': '2019-10-06 01:45:17.548083'}\n",
      "{'action': 'nothing', 'balance': 41.499981999999974, 'status': 'do nothing', 'timestamp': '2019-10-06 01:45:17.552752'}\n",
      "{'action': 'nothing', 'balance': 41.499981999999974, 'status': 'do nothing', 'timestamp': '2019-10-06 01:45:17.557513'}\n",
      "{'action': 'nothing', 'balance': 41.499981999999974, 'status': 'do nothing', 'timestamp': '2019-10-06 01:45:17.562652'}\n",
      "{'action': 'nothing', 'balance': 41.499981999999974, 'status': 'do nothing', 'timestamp': '2019-10-06 01:45:17.567122'}\n",
      "{'action': 'nothing', 'balance': 41.499981999999974, 'status': 'do nothing', 'timestamp': '2019-10-06 01:45:17.571657'}\n",
      "{'action': 'nothing', 'balance': 41.499981999999974, 'status': 'do nothing', 'timestamp': '2019-10-06 01:45:17.576213'}\n",
      "{'action': 'nothing', 'balance': 41.499981999999974, 'status': 'do nothing', 'timestamp': '2019-10-06 01:45:17.580940'}\n",
      "{'action': 'nothing', 'balance': 41.499981999999974, 'status': 'do nothing', 'timestamp': '2019-10-06 01:45:17.585523'}\n",
      "{'action': 'sell', 'balance': 74.36998099999997, 'gain': -0.06000099999999975, 'investment': -0.18220771333130806, 'status': 'sell 1 unit, price 32.869999', 'timestamp': '2019-10-06 01:45:17.590158'}\n",
      "{'action': 'nothing', 'balance': 74.36998099999997, 'status': 'do nothing', 'timestamp': '2019-10-06 01:45:17.594716'}\n",
      "{'action': 'nothing', 'balance': 74.36998099999997, 'status': 'do nothing', 'timestamp': '2019-10-06 01:45:17.599196'}\n",
      "{'action': 'nothing', 'balance': 74.36998099999997, 'status': 'do nothing', 'timestamp': '2019-10-06 01:45:17.603668'}\n",
      "{'action': 'nothing', 'balance': 74.36998099999997, 'status': 'do nothing', 'timestamp': '2019-10-06 01:45:17.608135'}\n",
      "{'action': 'nothing', 'balance': 74.36998099999997, 'status': 'do nothing', 'timestamp': '2019-10-06 01:45:17.612590'}\n",
      "{'action': 'buy', 'balance': 42.11998099999997, 'status': 'buy 1 unit, cost 32.250000', 'timestamp': '2019-10-06 01:45:17.617243'}\n"
     ]
    },
    {
     "name": "stdout",
     "output_type": "stream",
     "text": [
      "{'action': 'buy', 'balance': 11.14998199999997, 'status': 'buy 1 unit, cost 30.969999', 'timestamp': '2019-10-06 01:45:17.621761'}\n",
      "{'action': 'nothing', 'balance': 11.14998199999997, 'status': 'do nothing', 'timestamp': '2019-10-06 01:45:17.627834'}\n",
      "{'action': 'nothing', 'balance': 11.14998199999997, 'status': 'do nothing', 'timestamp': '2019-10-06 01:45:17.632545'}\n",
      "{'action': 'nothing', 'balance': 11.14998199999997, 'status': 'do nothing', 'timestamp': '2019-10-06 01:45:17.637134'}\n",
      "{'action': 'nothing', 'balance': 11.14998199999997, 'status': 'do nothing', 'timestamp': '2019-10-06 01:45:17.642499'}\n",
      "{'action': 'nothing', 'balance': 11.14998199999997, 'status': 'do nothing', 'timestamp': '2019-10-06 01:45:17.647188'}\n",
      "{'action': 'nothing', 'balance': 11.14998199999997, 'status': 'do nothing', 'timestamp': '2019-10-06 01:45:17.652269'}\n",
      "{'action': 'nothing', 'balance': 11.14998199999997, 'status': 'do nothing', 'timestamp': '2019-10-06 01:45:17.656820'}\n",
      "{'action': 'nothing', 'balance': 11.14998199999997, 'status': 'do nothing', 'timestamp': '2019-10-06 01:45:17.661586'}\n",
      "{'action': 'nothing', 'balance': 11.14998199999997, 'status': 'do nothing', 'timestamp': '2019-10-06 01:45:17.666172'}\n",
      "{'action': 'nothing', 'balance': 11.14998199999997, 'status': 'do nothing', 'timestamp': '2019-10-06 01:45:17.670664'}\n",
      "{'action': 'nothing', 'balance': 11.14998199999997, 'status': 'do nothing', 'timestamp': '2019-10-06 01:45:17.675188'}\n",
      "{'action': 'nothing', 'balance': 11.14998199999997, 'status': 'do nothing', 'timestamp': '2019-10-06 01:45:17.679709'}\n",
      "{'action': 'nothing', 'balance': 11.14998199999997, 'status': 'do nothing', 'timestamp': '2019-10-06 01:45:17.684496'}\n",
      "{'action': 'nothing', 'balance': 11.14998199999997, 'status': 'do nothing', 'timestamp': '2019-10-06 01:45:17.689272'}\n",
      "{'action': 'sell', 'balance': 42.26998299999997, 'gain': -1.129998999999998, 'investment': -3.503872868217048, 'status': 'sell 1 unit, price 31.120001', 'timestamp': '2019-10-06 01:45:17.693992'}\n",
      "{'action': 'sell', 'balance': 73.22998199999996, 'gain': -0.00999999999999801, 'investment': -0.032289313280242635, 'status': 'sell 1 unit, price 30.959999', 'timestamp': '2019-10-06 01:45:17.699099'}\n",
      "{'action': 'buy', 'balance': 41.99998199999996, 'status': 'buy 1 unit, cost 31.230000', 'timestamp': '2019-10-06 01:45:17.704158'}\n",
      "{'action': 'buy', 'balance': 10.349981999999962, 'status': 'buy 1 unit, cost 31.650000', 'timestamp': '2019-10-06 01:45:17.708650'}\n",
      "{'action': 'nothing', 'balance': 10.349981999999962, 'status': 'do nothing', 'timestamp': '2019-10-06 01:45:17.713234'}\n",
      "{'action': 'nothing', 'balance': 10.349981999999962, 'status': 'do nothing', 'timestamp': '2019-10-06 01:45:17.718109'}\n",
      "{'action': 'nothing', 'balance': 10.349981999999962, 'status': 'do nothing', 'timestamp': '2019-10-06 01:45:17.722576'}\n",
      "{'action': 'nothing', 'balance': 10.349981999999962, 'status': 'do nothing', 'timestamp': '2019-10-06 01:45:17.727126'}\n",
      "{'action': 'nothing', 'balance': 10.349981999999962, 'status': 'do nothing', 'timestamp': '2019-10-06 01:45:17.731647'}\n",
      "{'action': 'nothing', 'balance': 10.349981999999962, 'status': 'do nothing', 'timestamp': '2019-10-06 01:45:17.736222'}\n",
      "{'action': 'nothing', 'balance': 10.349981999999962, 'status': 'do nothing', 'timestamp': '2019-10-06 01:45:17.740903'}\n",
      "{'action': 'nothing', 'balance': 10.349981999999962, 'status': 'do nothing', 'timestamp': '2019-10-06 01:45:17.745750'}\n",
      "{'action': 'nothing', 'balance': 10.349981999999962, 'status': 'do nothing', 'timestamp': '2019-10-06 01:45:17.750506'}\n",
      "{'action': 'sell', 'balance': 41.37998299999997, 'gain': -0.19999899999999826, 'investment': -0.6404066602625624, 'status': 'sell 1 unit, price 31.030001', 'timestamp': '2019-10-06 01:45:17.755053'}\n",
      "{'action': 'nothing', 'balance': 41.37998299999997, 'status': 'do nothing', 'timestamp': '2019-10-06 01:45:17.759789'}\n",
      "{'action': 'nothing', 'balance': 41.37998299999997, 'status': 'do nothing', 'timestamp': '2019-10-06 01:45:17.764328'}\n",
      "{'action': 'nothing', 'balance': 41.37998299999997, 'status': 'do nothing', 'timestamp': '2019-10-06 01:45:17.769219'}\n",
      "{'action': 'nothing', 'balance': 41.37998299999997, 'status': 'do nothing', 'timestamp': '2019-10-06 01:45:17.774013'}\n"
     ]
    }
   ],
   "source": [
    "for i in range(200):\n",
    "    data = json.dumps([close[i], volume[i]])\n",
    "    requested = requests.get('http://localhost:8005/trade?data=' + data).json()\n",
    "    print(requested)"
   ]
  },
  {
   "cell_type": "markdown",
   "metadata": {},
   "source": [
    "check balance"
   ]
  },
  {
   "cell_type": "code",
   "execution_count": 8,
   "metadata": {},
   "outputs": [
    {
     "data": {
      "text/plain": [
       "41.37998299999997"
      ]
     },
     "execution_count": 8,
     "metadata": {},
     "output_type": "execute_result"
    }
   ],
   "source": [
    "requests.get('http://localhost:8005/balance').json()"
   ]
  },
  {
   "cell_type": "markdown",
   "metadata": {},
   "source": [
    "check inventory"
   ]
  },
  {
   "cell_type": "code",
   "execution_count": 9,
   "metadata": {},
   "outputs": [
    {
     "data": {
      "text/plain": [
       "[125.60315001523634]"
      ]
     },
     "execution_count": 9,
     "metadata": {},
     "output_type": "execute_result"
    }
   ],
   "source": [
    "requests.get('http://localhost:8005/inventory').json()"
   ]
  },
  {
   "cell_type": "code",
   "execution_count": null,
   "metadata": {},
   "outputs": [],
   "source": []
  }
 ],
 "metadata": {
  "kernelspec": {
   "display_name": "Python 3",
   "language": "python",
   "name": "python3"
  },
  "language_info": {
   "codemirror_mode": {
    "name": "ipython",
    "version": 3
   },
   "file_extension": ".py",
   "mimetype": "text/x-python",
   "name": "python",
   "nbconvert_exporter": "python",
   "pygments_lexer": "ipython3",
   "version": "3.6.7"
  },
  "varInspector": {
   "cols": {
    "lenName": 16,
    "lenType": 16,
    "lenVar": 40
   },
   "kernels_config": {
    "python": {
     "delete_cmd_postfix": "",
     "delete_cmd_prefix": "del ",
     "library": "var_list.py",
     "varRefreshCmd": "print(var_dic_list())"
    },
    "r": {
     "delete_cmd_postfix": ") ",
     "delete_cmd_prefix": "rm(",
     "library": "var_list.r",
     "varRefreshCmd": "cat(var_dic_list()) "
    }
   },
   "types_to_exclude": [
    "module",
    "function",
    "builtin_function_or_method",
    "instance",
    "_Feature"
   ],
   "window_display": false
  }
 },
 "nbformat": 4,
 "nbformat_minor": 2
}
