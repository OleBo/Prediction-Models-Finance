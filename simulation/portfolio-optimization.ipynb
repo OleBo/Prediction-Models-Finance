{
 "cells": [
  {
   "cell_type": "code",
   "execution_count": 1,
   "metadata": {},
   "outputs": [],
   "source": [
    "import numpy as np\n",
    "import pandas as pd\n",
    "import matplotlib.pyplot as plt\n",
    "import seaborn as sns\n",
    "sns.set()"
   ]
  },
  {
   "cell_type": "code",
   "execution_count": 2,
   "metadata": {},
   "outputs": [
    {
     "data": {
      "text/plain": [
       "['../dataset/AMD.csv',\n",
       " '../dataset/FB.csv',\n",
       " '../dataset/TSLA.csv',\n",
       " '../dataset/TWTR.csv',\n",
       " '../dataset/MONDY.csv']"
      ]
     },
     "execution_count": 2,
     "metadata": {},
     "output_type": "execute_result"
    }
   ],
   "source": [
    "directory = '../dataset/'\n",
    "stocks = ['AMD.csv', 'FB.csv', 'TSLA.csv', 'TWTR.csv', 'MONDY.csv']\n",
    "stocks = [directory + s for s in stocks]\n",
    "stocks"
   ]
  },
  {
   "cell_type": "code",
   "execution_count": 8,
   "metadata": {},
   "outputs": [
    {
     "data": {
      "text/html": [
       "<div>\n",
       "<style scoped>\n",
       "    .dataframe tbody tr th:only-of-type {\n",
       "        vertical-align: middle;\n",
       "    }\n",
       "\n",
       "    .dataframe tbody tr th {\n",
       "        vertical-align: top;\n",
       "    }\n",
       "\n",
       "    .dataframe thead th {\n",
       "        text-align: right;\n",
       "    }\n",
       "</style>\n",
       "<table border=\"1\" class=\"dataframe\">\n",
       "  <thead>\n",
       "    <tr style=\"text-align: right;\">\n",
       "      <th></th>\n",
       "      <th>Date</th>\n",
       "      <th>Close</th>\n",
       "    </tr>\n",
       "  </thead>\n",
       "  <tbody>\n",
       "    <tr>\n",
       "      <td>0</td>\n",
       "      <td>2018-05-23</td>\n",
       "      <td>13.10</td>\n",
       "    </tr>\n",
       "    <tr>\n",
       "      <td>1</td>\n",
       "      <td>2018-05-24</td>\n",
       "      <td>13.41</td>\n",
       "    </tr>\n",
       "    <tr>\n",
       "      <td>2</td>\n",
       "      <td>2018-05-25</td>\n",
       "      <td>13.54</td>\n",
       "    </tr>\n",
       "    <tr>\n",
       "      <td>3</td>\n",
       "      <td>2018-05-29</td>\n",
       "      <td>13.36</td>\n",
       "    </tr>\n",
       "    <tr>\n",
       "      <td>4</td>\n",
       "      <td>2018-05-30</td>\n",
       "      <td>13.82</td>\n",
       "    </tr>\n",
       "  </tbody>\n",
       "</table>\n",
       "</div>"
      ],
      "text/plain": [
       "         Date  Close\n",
       "0  2018-05-23  13.10\n",
       "1  2018-05-24  13.41\n",
       "2  2018-05-25  13.54\n",
       "3  2018-05-29  13.36\n",
       "4  2018-05-30  13.82"
      ]
     },
     "execution_count": 8,
     "metadata": {},
     "output_type": "execute_result"
    }
   ],
   "source": [
    "dfs = [pd.read_csv(s)[['Date', 'Close']] for s in stocks]\n",
    "dfs[0].head()"
   ]
  },
  {
   "cell_type": "code",
   "execution_count": 17,
   "metadata": {},
   "outputs": [
    {
     "data": {
      "text/html": [
       "<div>\n",
       "<style scoped>\n",
       "    .dataframe tbody tr th:only-of-type {\n",
       "        vertical-align: middle;\n",
       "    }\n",
       "\n",
       "    .dataframe tbody tr th {\n",
       "        vertical-align: top;\n",
       "    }\n",
       "\n",
       "    .dataframe thead th {\n",
       "        text-align: right;\n",
       "    }\n",
       "</style>\n",
       "<table border=\"1\" class=\"dataframe\">\n",
       "  <thead>\n",
       "    <tr style=\"text-align: right;\">\n",
       "      <th></th>\n",
       "      <th>AMD</th>\n",
       "      <th>FB</th>\n",
       "      <th>TSLA</th>\n",
       "      <th>TWTR</th>\n",
       "      <th>MONDY</th>\n",
       "    </tr>\n",
       "  </thead>\n",
       "  <tbody>\n",
       "    <tr>\n",
       "      <td>0</td>\n",
       "      <td>16.270000</td>\n",
       "      <td>207.320007</td>\n",
       "      <td>318.869995</td>\n",
       "      <td>44.490002</td>\n",
       "      <td>56.889999</td>\n",
       "    </tr>\n",
       "    <tr>\n",
       "      <td>1</td>\n",
       "      <td>16.580000</td>\n",
       "      <td>207.229996</td>\n",
       "      <td>310.100006</td>\n",
       "      <td>44.259998</td>\n",
       "      <td>56.639999</td>\n",
       "    </tr>\n",
       "    <tr>\n",
       "      <td>2</td>\n",
       "      <td>16.870001</td>\n",
       "      <td>209.990005</td>\n",
       "      <td>322.690002</td>\n",
       "      <td>44.709999</td>\n",
       "      <td>57.730000</td>\n",
       "    </tr>\n",
       "    <tr>\n",
       "      <td>3</td>\n",
       "      <td>16.850000</td>\n",
       "      <td>209.360001</td>\n",
       "      <td>323.850006</td>\n",
       "      <td>43.340000</td>\n",
       "      <td>57.810001</td>\n",
       "    </tr>\n",
       "    <tr>\n",
       "      <td>4</td>\n",
       "      <td>16.709999</td>\n",
       "      <td>208.089996</td>\n",
       "      <td>320.230011</td>\n",
       "      <td>43.439999</td>\n",
       "      <td>52.380001</td>\n",
       "    </tr>\n",
       "  </tbody>\n",
       "</table>\n",
       "</div>"
      ],
      "text/plain": [
       "         AMD          FB        TSLA       TWTR      MONDY\n",
       "0  16.270000  207.320007  318.869995  44.490002  56.889999\n",
       "1  16.580000  207.229996  310.100006  44.259998  56.639999\n",
       "2  16.870001  209.990005  322.690002  44.709999  57.730000\n",
       "3  16.850000  209.360001  323.850006  43.340000  57.810001\n",
       "4  16.709999  208.089996  320.230011  43.439999  52.380001"
      ]
     },
     "execution_count": 17,
     "metadata": {},
     "output_type": "execute_result"
    }
   ],
   "source": [
    "from functools import reduce\n",
    "pd.merge?\n",
    "data = reduce(lambda left,right: pd.merge(left,right,on='Date'), dfs).iloc[:, 1:]\n",
    "data.columns = ['AMD','FB','TSLA','TWTR','MONDY']\n",
    "data.head()"
   ]
  },
  {
   "cell_type": "code",
   "execution_count": 19,
   "metadata": {},
   "outputs": [],
   "source": [
    "returns = data.pct_change()\n",
    "mean_daily_returns = returns.mean()\n",
    "cov_matrix = returns.cov()"
   ]
  },
  {
   "cell_type": "code",
   "execution_count": 20,
   "metadata": {},
   "outputs": [
    {
     "data": {
      "text/html": [
       "<div>\n",
       "<style scoped>\n",
       "    .dataframe tbody tr th:only-of-type {\n",
       "        vertical-align: middle;\n",
       "    }\n",
       "\n",
       "    .dataframe tbody tr th {\n",
       "        vertical-align: top;\n",
       "    }\n",
       "\n",
       "    .dataframe thead th {\n",
       "        text-align: right;\n",
       "    }\n",
       "</style>\n",
       "<table border=\"1\" class=\"dataframe\">\n",
       "  <thead>\n",
       "    <tr style=\"text-align: right;\">\n",
       "      <th></th>\n",
       "      <th>AMD</th>\n",
       "      <th>FB</th>\n",
       "      <th>TSLA</th>\n",
       "      <th>TWTR</th>\n",
       "      <th>MONDY</th>\n",
       "    </tr>\n",
       "  </thead>\n",
       "  <tbody>\n",
       "    <tr>\n",
       "      <td>AMD</td>\n",
       "      <td>0.002342</td>\n",
       "      <td>0.000316</td>\n",
       "      <td>0.000368</td>\n",
       "      <td>0.000387</td>\n",
       "      <td>0.000215</td>\n",
       "    </tr>\n",
       "    <tr>\n",
       "      <td>FB</td>\n",
       "      <td>0.000316</td>\n",
       "      <td>0.000694</td>\n",
       "      <td>0.000216</td>\n",
       "      <td>0.000463</td>\n",
       "      <td>0.000043</td>\n",
       "    </tr>\n",
       "    <tr>\n",
       "      <td>TSLA</td>\n",
       "      <td>0.000368</td>\n",
       "      <td>0.000216</td>\n",
       "      <td>0.001643</td>\n",
       "      <td>0.000516</td>\n",
       "      <td>0.000004</td>\n",
       "    </tr>\n",
       "    <tr>\n",
       "      <td>TWTR</td>\n",
       "      <td>0.000387</td>\n",
       "      <td>0.000463</td>\n",
       "      <td>0.000516</td>\n",
       "      <td>0.001240</td>\n",
       "      <td>0.000177</td>\n",
       "    </tr>\n",
       "    <tr>\n",
       "      <td>MONDY</td>\n",
       "      <td>0.000215</td>\n",
       "      <td>0.000043</td>\n",
       "      <td>0.000004</td>\n",
       "      <td>0.000177</td>\n",
       "      <td>0.000985</td>\n",
       "    </tr>\n",
       "  </tbody>\n",
       "</table>\n",
       "</div>"
      ],
      "text/plain": [
       "            AMD        FB      TSLA      TWTR     MONDY\n",
       "AMD    0.002342  0.000316  0.000368  0.000387  0.000215\n",
       "FB     0.000316  0.000694  0.000216  0.000463  0.000043\n",
       "TSLA   0.000368  0.000216  0.001643  0.000516  0.000004\n",
       "TWTR   0.000387  0.000463  0.000516  0.001240  0.000177\n",
       "MONDY  0.000215  0.000043  0.000004  0.000177  0.000985"
      ]
     },
     "execution_count": 20,
     "metadata": {},
     "output_type": "execute_result"
    }
   ],
   "source": [
    "cov_matrix"
   ]
  },
  {
   "cell_type": "code",
   "execution_count": 21,
   "metadata": {},
   "outputs": [],
   "source": [
    "num_portfolios = 25000\n",
    "results = np.zeros((3,num_portfolios))"
   ]
  },
  {
   "cell_type": "code",
   "execution_count": 23,
   "metadata": {},
   "outputs": [],
   "source": [
    "for i in range(num_portfolios):\n",
    "    weights = np.random.random(cov_matrix.shape[0])\n",
    "    weights /= np.sum(weights)\n",
    "    portfolio_return = np.sum(mean_daily_returns * weights) * 252\n",
    "    portfolio_std_dev = np.sqrt(np.dot(weights.T,np.dot(cov_matrix, weights))) * np.sqrt(252)\n",
    "    results[0,i] = portfolio_return\n",
    "    results[1,i] = portfolio_std_dev\n",
    "    results[2,i] = results[0,i] / results[1,i]"
   ]
  },
  {
   "cell_type": "code",
   "execution_count": 24,
   "metadata": {},
   "outputs": [],
   "source": [
    "results_frame = pd.DataFrame(results.T,columns=['ret','stdev','sharpe'])"
   ]
  },
  {
   "cell_type": "code",
   "execution_count": 25,
   "metadata": {},
   "outputs": [
    {
     "data": {
      "image/png": "[encoded data removed]",
      "text/plain": [
       "<Figure size 504x360 with 2 Axes>"
      ]
     },
     "metadata": {
      "needs_background": "light"
     },
     "output_type": "display_data"
    }
   ],
   "source": [
    "plt.figure(figsize = (7, 5))\n",
    "plt.scatter(results_frame.stdev,results_frame.ret,c=results_frame.sharpe,cmap='RdYlBu')\n",
    "plt.colorbar()\n",
    "plt.xlabel('volatility')\n",
    "plt.ylabel('returns')\n",
    "plt.show()"
   ]
  },
  {
   "cell_type": "code",
   "execution_count": null,
   "metadata": {},
   "outputs": [],
   "source": []
  }
 ],
 "metadata": {
  "kernelspec": {
   "display_name": "Python 3",
   "language": "python",
   "name": "python3"
  },
  "language_info": {
   "codemirror_mode": {
    "name": "ipython",
    "version": 3
   },
   "file_extension": ".py",
   "mimetype": "text/x-python",
   "name": "python",
   "nbconvert_exporter": "python",
   "pygments_lexer": "ipython3",
   "version": "3.6.7"
  },
  "varInspector": {
   "cols": {
    "lenName": 16,
    "lenType": 16,
    "lenVar": 40
   },
   "kernels_config": {
    "python": {
     "delete_cmd_postfix": "",
     "delete_cmd_prefix": "del ",
     "library": "var_list.py",
     "varRefreshCmd": "print(var_dic_list())"
    },
    "r": {
     "delete_cmd_postfix": ") ",
     "delete_cmd_prefix": "rm(",
     "library": "var_list.r",
     "varRefreshCmd": "cat(var_dic_list()) "
    }
   },
   "types_to_exclude": [
    "module",
    "function",
    "builtin_function_or_method",
    "instance",
    "_Feature"
   ],
   "window_display": false
  }
 },
 "nbformat": 4,
 "nbformat_minor": 2
}
