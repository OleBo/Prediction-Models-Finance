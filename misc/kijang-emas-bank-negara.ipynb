{
 "cells": [
  {
   "cell_type": "markdown",
   "metadata": {},
   "source": [
    "# Welcome to Kijang Emas analysis!\n",
    "\n",
    "![alt text](http://www.bnm.gov.my/images/kijang_emas/kijang.rm200.jpg)\n",
    "\n",
    "I was found around last week (18th March 2019), our Bank Negara opened public APIs for certain data, it was really cool and I want to help people get around with the data and what actually they can do with the data!\n",
    "\n",
    "We are going to cover 2 things here,\n",
    "\n",
    "1. Data Analytics\n",
    "2. Predictive Modelling (Linear regression, ARIMA, LSTM)\n",
    "\n",
    "Hell, I know nothing about Kijang Emas.\n",
    "\n",
    "**Again, do not use this code to buy something on the real world (if got positive return, please donate some to me)**"
   ]
  },
  {
   "cell_type": "code",
   "execution_count": 1,
   "metadata": {},
   "outputs": [],
   "source": [
    "import requests"
   ]
  },
  {
   "cell_type": "markdown",
   "metadata": {},
   "source": [
    "## Data gathering\n",
    "\n",
    "To get the data is really simple, use this link to get kijang emas data, https://api.bnm.gov.my/public/kijang-emas/year/{year}/month/{month}\n",
    "\n",
    "Now, I want to get data from january 2018 - march 2019."
   ]
  },
  {
   "cell_type": "markdown",
   "metadata": {},
   "source": [
    "#### 2018 data"
   ]
  },
  {
   "cell_type": "code",
   "execution_count": 29,
   "metadata": {},
   "outputs": [
    {
     "data": {
      "text/plain": [
       "{'message': 'No records found.', 'code': 404}"
      ]
     },
     "execution_count": 29,
     "metadata": {},
     "output_type": "execute_result"
    }
   ],
   "source": [
    "requests.get(\n",
    "        'https://api.bnm.gov.my/public/kijang-emas/date/2018-11-05',\n",
    "        headers = {'Accept': 'application/vnd.BNM.API.v1+json'},\n",
    "    ).json()"
   ]
  },
  {
   "cell_type": "code",
   "execution_count": 2,
   "metadata": {},
   "outputs": [],
   "source": [
    "data_2018 = []\n",
    "for i in range(12):\n",
    "    data_2018.append(requests.get(\n",
    "        'https://api.bnm.gov.my/public/kijang-emas/year/2018/month/%d'%(i + 1),\n",
    "        headers = {'Accept': 'application/vnd.BNM.API.v1+json'},\n",
    "    ).json())"
   ]
  },
  {
   "cell_type": "markdown",
   "metadata": {},
   "source": [
    "#### 2019 data"
   ]
  },
  {
   "cell_type": "code",
   "execution_count": 3,
   "metadata": {},
   "outputs": [],
   "source": [
    "data_2019 = []\n",
    "for i in range(3):\n",
    "    data_2019.append(requests.get(\n",
    "        'https://api.bnm.gov.my/public/kijang-emas/year/2019/month/%d'%(i + 1),\n",
    "        headers = {'Accept': 'application/vnd.BNM.API.v1+json'},\n",
    "    ).json())"
   ]
  },
  {
   "cell_type": "markdown",
   "metadata": {},
   "source": [
    "#### Take a peak our data ya"
   ]
  },
  {
   "cell_type": "code",
   "execution_count": 4,
   "metadata": {},
   "outputs": [
    {
     "data": {
      "text/plain": [
       "[]"
      ]
     },
     "execution_count": 4,
     "metadata": {},
     "output_type": "execute_result"
    }
   ],
   "source": [
    "data_2018[0]['data'][:5]"
   ]
  },
  {
   "cell_type": "markdown",
   "metadata": {},
   "source": [
    "Again, I got zero knowledge on kijang emas and I don't really care about the value, and I don't know what the value represented.\n",
    "\n",
    "Now I want to parse `effective_date` and `buying` from `one_oz`."
   ]
  },
  {
   "cell_type": "code",
   "execution_count": 5,
   "metadata": {},
   "outputs": [
    {
     "data": {
      "text/plain": [
       "(0, 0)"
      ]
     },
     "execution_count": 5,
     "metadata": {},
     "output_type": "execute_result"
    }
   ],
   "source": [
    "timestamp, selling = [], []\n",
    "for month in data_2018 + data_2019:\n",
    "    for day in month['data']:\n",
    "        timestamp.append(day['effective_date'])\n",
    "        selling.append(day['one_oz']['selling'])\n",
    "        \n",
    "len(timestamp), len(selling)"
   ]
  },
  {
   "cell_type": "markdown",
   "metadata": {},
   "source": [
    "Going to import matplotlib and seaborn for visualization, I really seaborn because of the font and colors, thats all, hah!"
   ]
  },
  {
   "cell_type": "code",
   "execution_count": 6,
   "metadata": {},
   "outputs": [],
   "source": [
    "import matplotlib.pyplot as plt\n",
    "import seaborn as sns\n",
    "import numpy as np\n",
    "sns.set()"
   ]
  },
  {
   "cell_type": "code",
   "execution_count": 7,
   "metadata": {},
   "outputs": [
    {
     "data": {
      "image/png": "[encoded data removed]",
      "text/plain": [
       "<Figure size 1080x360 with 1 Axes>"
      ]
     },
     "metadata": {
      "needs_background": "light"
     },
     "output_type": "display_data"
    }
   ],
   "source": [
    "plt.figure(figsize = (15, 5))\n",
    "plt.plot(selling)\n",
    "plt.xticks(np.arange(len(timestamp))[::15], timestamp[::15], rotation = '45')\n",
    "plt.show()"
   ]
  },
  {
   "cell_type": "markdown",
   "metadata": {},
   "source": [
    "## Perfect!\n",
    "\n",
    "So now let's we start our Data analytics."
   ]
  },
  {
   "cell_type": "markdown",
   "metadata": {},
   "source": [
    "#### Distribution study"
   ]
  },
  {
   "cell_type": "code",
   "execution_count": 8,
   "metadata": {},
   "outputs": [
    {
     "name": "stderr",
     "output_type": "stream",
     "text": [
      "/Users/bochmann/lib/anaconda3/envs/gcstf/lib/python3.7/site-packages/seaborn/distributions.py:198: RuntimeWarning: Mean of empty slice.\n",
      "  line, = ax.plot(a.mean(), 0)\n",
      "/Users/bochmann/lib/anaconda3/envs/gcstf/lib/python3.7/site-packages/numpy/core/_methods.py:85: RuntimeWarning: invalid value encountered in double_scalars\n",
      "  ret = ret.dtype.type(ret / rcount)\n",
      "/Users/bochmann/lib/anaconda3/envs/gcstf/lib/python3.7/site-packages/numpy/lib/histograms.py:893: RuntimeWarning: invalid value encountered in true_divide\n",
      "  return n/db/n.sum(), bin_edges\n"
     ]
    },
    {
     "data": {
      "image/png": "[encoded data removed]",
      "text/plain": [
       "<Figure size 1080x360 with 1 Axes>"
      ]
     },
     "metadata": {
      "needs_background": "light"
     },
     "output_type": "display_data"
    }
   ],
   "source": [
    "plt.figure(figsize = (15, 5))\n",
    "sns.distplot(selling)\n",
    "plt.show()"
   ]
  },
  {
   "cell_type": "markdown",
   "metadata": {},
   "source": [
    "Look at this, already normal distribution, coincidence? (I really wanted to show off unit scaling skills, too bad :/ )\n",
    "\n",
    "Now let's change our into Pandas, for lagging analysis."
   ]
  },
  {
   "cell_type": "code",
   "execution_count": 9,
   "metadata": {},
   "outputs": [
    {
     "data": {
      "text/html": [
       "<div>\n",
       "<style scoped>\n",
       "    .dataframe tbody tr th:only-of-type {\n",
       "        vertical-align: middle;\n",
       "    }\n",
       "\n",
       "    .dataframe tbody tr th {\n",
       "        vertical-align: top;\n",
       "    }\n",
       "\n",
       "    .dataframe thead th {\n",
       "        text-align: right;\n",
       "    }\n",
       "</style>\n",
       "<table border=\"1\" class=\"dataframe\">\n",
       "  <thead>\n",
       "    <tr style=\"text-align: right;\">\n",
       "      <th></th>\n",
       "      <th>timestamp</th>\n",
       "      <th>selling</th>\n",
       "    </tr>\n",
       "  </thead>\n",
       "  <tbody>\n",
       "  </tbody>\n",
       "</table>\n",
       "</div>"
      ],
      "text/plain": [
       "Empty DataFrame\n",
       "Columns: [timestamp, selling]\n",
       "Index: []"
      ]
     },
     "execution_count": 9,
     "metadata": {},
     "output_type": "execute_result"
    }
   ],
   "source": [
    "import pandas as pd\n",
    "df = pd.DataFrame({'timestamp':timestamp, 'selling':selling})\n",
    "df.head()"
   ]
  },
  {
   "cell_type": "code",
   "execution_count": 10,
   "metadata": {},
   "outputs": [],
   "source": [
    "def df_shift(df, lag = 0, start = 1, skip = 1, rejected_columns = []):\n",
    "    df = df.copy()\n",
    "    if not lag:\n",
    "        return df\n",
    "    cols = {}\n",
    "    for i in range(start, lag + 1, skip):\n",
    "        for x in list(df.columns):\n",
    "            if x not in rejected_columns:\n",
    "                if not x in cols:\n",
    "                    cols[x] = ['{}_{}'.format(x, i)]\n",
    "                else:\n",
    "                    cols[x].append('{}_{}'.format(x, i))\n",
    "    for k, v in cols.items():\n",
    "        columns = v\n",
    "        dfn = pd.DataFrame(data = None, columns = columns, index = df.index)\n",
    "        i = start - 1\n",
    "        for c in columns:\n",
    "            dfn[c] = df[k].shift(periods = i)\n",
    "            i += skip\n",
    "        df = pd.concat([df, dfn], axis = 1, join_axes = [df.index])\n",
    "    return df"
   ]
  },
  {
   "cell_type": "markdown",
   "metadata": {},
   "source": [
    "**Shifted and moving average are not same.**"
   ]
  },
  {
   "cell_type": "code",
   "execution_count": 11,
   "metadata": {},
   "outputs": [
    {
     "name": "stderr",
     "output_type": "stream",
     "text": [
      "/Users/bochmann/lib/anaconda3/envs/gcstf/lib/python3.7/site-packages/ipykernel_launcher.py:20: FutureWarning: The join_axes-keyword is deprecated. Use .reindex or .reindex_like on the result to achieve the same functionality.\n"
     ]
    }
   ],
   "source": [
    "df_crosscorrelated = df_shift(\n",
    "    df, lag = 12, start = 4, skip = 2, rejected_columns = ['timestamp']\n",
    ")\n",
    "df_crosscorrelated['ma7'] = df_crosscorrelated['selling'].rolling(7).mean()\n",
    "df_crosscorrelated['ma14'] = df_crosscorrelated['selling'].rolling(14).mean()\n",
    "df_crosscorrelated['ma21'] = df_crosscorrelated['selling'].rolling(21).mean()"
   ]
  },
  {
   "cell_type": "markdown",
   "metadata": {},
   "source": [
    "## why we lagged or shifted to certain units?\n",
    "\n",
    "Virals took some time, impacts took some time, same goes to price lot / unit.\n",
    "\n",
    "Now I want to `lag` for until 12 units, `start` at 4 units shifted, `skip` every 2 units."
   ]
  },
  {
   "cell_type": "code",
   "execution_count": 12,
   "metadata": {},
   "outputs": [
    {
     "data": {
      "text/html": [
       "<div>\n",
       "<style scoped>\n",
       "    .dataframe tbody tr th:only-of-type {\n",
       "        vertical-align: middle;\n",
       "    }\n",
       "\n",
       "    .dataframe tbody tr th {\n",
       "        vertical-align: top;\n",
       "    }\n",
       "\n",
       "    .dataframe thead th {\n",
       "        text-align: right;\n",
       "    }\n",
       "</style>\n",
       "<table border=\"1\" class=\"dataframe\">\n",
       "  <thead>\n",
       "    <tr style=\"text-align: right;\">\n",
       "      <th></th>\n",
       "      <th>timestamp</th>\n",
       "      <th>selling</th>\n",
       "      <th>selling_4</th>\n",
       "      <th>selling_6</th>\n",
       "      <th>selling_8</th>\n",
       "      <th>selling_10</th>\n",
       "      <th>selling_12</th>\n",
       "      <th>ma7</th>\n",
       "      <th>ma14</th>\n",
       "      <th>ma21</th>\n",
       "    </tr>\n",
       "  </thead>\n",
       "  <tbody>\n",
       "  </tbody>\n",
       "</table>\n",
       "</div>"
      ],
      "text/plain": [
       "Empty DataFrame\n",
       "Columns: [timestamp, selling, selling_4, selling_6, selling_8, selling_10, selling_12, ma7, ma14, ma21]\n",
       "Index: []"
      ]
     },
     "execution_count": 12,
     "metadata": {},
     "output_type": "execute_result"
    }
   ],
   "source": [
    "df_crosscorrelated.head(21)"
   ]
  },
  {
   "cell_type": "code",
   "execution_count": 13,
   "metadata": {},
   "outputs": [
    {
     "data": {
      "image/png": "[encoded data removed]",
      "text/plain": [
       "<Figure size 1440x288 with 3 Axes>"
      ]
     },
     "metadata": {
      "needs_background": "light"
     },
     "output_type": "display_data"
    }
   ],
   "source": [
    "plt.figure(figsize = (20, 4))\n",
    "plt.subplot(1, 3, 1)\n",
    "plt.scatter(df_crosscorrelated['selling'], df_crosscorrelated['selling_4'])\n",
    "mse = (\n",
    "    (df_crosscorrelated['selling_4'] - df_crosscorrelated['selling']) ** 2\n",
    ").mean()\n",
    "plt.title('close vs shifted 4, average change: %f'%(mse))\n",
    "plt.subplot(1, 3, 2)\n",
    "plt.scatter(df_crosscorrelated['selling'], df_crosscorrelated['selling_8'])\n",
    "mse = (\n",
    "    (df_crosscorrelated['selling_8'] - df_crosscorrelated['selling']) ** 2\n",
    ").mean()\n",
    "plt.title('close vs shifted 8, average change: %f'%(mse))\n",
    "plt.subplot(1, 3, 3)\n",
    "plt.scatter(df_crosscorrelated['selling'], df_crosscorrelated['selling_12'])\n",
    "mse = (\n",
    "    (df_crosscorrelated['selling_12'] - df_crosscorrelated['selling']) ** 2\n",
    ").mean()\n",
    "plt.title('close vs shifted 12, average change: %f'%(mse))\n",
    "plt.show()"
   ]
  },
  {
   "cell_type": "markdown",
   "metadata": {},
   "source": [
    "Keep increasing and increasing!"
   ]
  },
  {
   "cell_type": "code",
   "execution_count": 14,
   "metadata": {},
   "outputs": [
    {
     "data": {
      "image/png": "[encoded data removed]",
      "text/plain": [
       "<Figure size 720x360 with 1 Axes>"
      ]
     },
     "metadata": {
      "needs_background": "light"
     },
     "output_type": "display_data"
    }
   ],
   "source": [
    "plt.figure(figsize = (10, 5))\n",
    "plt.scatter(\n",
    "    df_crosscorrelated['selling'],\n",
    "    df_crosscorrelated['selling_4'],\n",
    "    label = 'close vs shifted 4',\n",
    ")\n",
    "plt.scatter(\n",
    "    df_crosscorrelated['selling'],\n",
    "    df_crosscorrelated['selling_8'],\n",
    "    label = 'close vs shifted 8',\n",
    ")\n",
    "plt.scatter(\n",
    "    df_crosscorrelated['selling'],\n",
    "    df_crosscorrelated['selling_12'],\n",
    "    label = 'close vs shifted 12',\n",
    ")\n",
    "plt.legend()\n",
    "plt.show()"
   ]
  },
  {
   "cell_type": "code",
   "execution_count": 15,
   "metadata": {},
   "outputs": [
    {
     "ename": "TypeError",
     "evalue": "no numeric data to plot",
     "output_type": "error",
     "traceback": [
      "\u001b[0;31m---------------------------------------------------------------------------\u001b[0m",
      "\u001b[0;31mTypeError\u001b[0m                                 Traceback (most recent call last)",
      "\u001b[0;32m<ipython-input-15-e974beb9718a>\u001b[0m in \u001b[0;36m<module>\u001b[0;34m\u001b[0m\n\u001b[1;32m      1\u001b[0m \u001b[0mfig\u001b[0m\u001b[0;34m,\u001b[0m \u001b[0max\u001b[0m \u001b[0;34m=\u001b[0m \u001b[0mplt\u001b[0m\u001b[0;34m.\u001b[0m\u001b[0msubplots\u001b[0m\u001b[0;34m(\u001b[0m\u001b[0mfigsize\u001b[0m \u001b[0;34m=\u001b[0m \u001b[0;34m(\u001b[0m\u001b[0;36m15\u001b[0m\u001b[0;34m,\u001b[0m \u001b[0;36m5\u001b[0m\u001b[0;34m)\u001b[0m\u001b[0;34m)\u001b[0m\u001b[0;34m\u001b[0m\u001b[0;34m\u001b[0m\u001b[0m\n\u001b[1;32m      2\u001b[0m df_crosscorrelated.plot(\n\u001b[0;32m----> 3\u001b[0;31m     \u001b[0mx\u001b[0m \u001b[0;34m=\u001b[0m \u001b[0;34m'timestamp'\u001b[0m\u001b[0;34m,\u001b[0m \u001b[0my\u001b[0m \u001b[0;34m=\u001b[0m \u001b[0;34m[\u001b[0m\u001b[0;34m'selling'\u001b[0m\u001b[0;34m,\u001b[0m \u001b[0;34m'ma7'\u001b[0m\u001b[0;34m,\u001b[0m \u001b[0;34m'ma14'\u001b[0m\u001b[0;34m,\u001b[0m \u001b[0;34m'ma21'\u001b[0m\u001b[0;34m]\u001b[0m\u001b[0;34m,\u001b[0m \u001b[0max\u001b[0m \u001b[0;34m=\u001b[0m \u001b[0max\u001b[0m\u001b[0;34m\u001b[0m\u001b[0;34m\u001b[0m\u001b[0m\n\u001b[0m\u001b[1;32m      4\u001b[0m )\n\u001b[1;32m      5\u001b[0m \u001b[0mplt\u001b[0m\u001b[0;34m.\u001b[0m\u001b[0mxticks\u001b[0m\u001b[0;34m(\u001b[0m\u001b[0mnp\u001b[0m\u001b[0;34m.\u001b[0m\u001b[0marange\u001b[0m\u001b[0;34m(\u001b[0m\u001b[0mlen\u001b[0m\u001b[0;34m(\u001b[0m\u001b[0mtimestamp\u001b[0m\u001b[0;34m)\u001b[0m\u001b[0;34m)\u001b[0m\u001b[0;34m[\u001b[0m\u001b[0;34m:\u001b[0m\u001b[0;34m:\u001b[0m\u001b[0;36m10\u001b[0m\u001b[0;34m]\u001b[0m\u001b[0;34m,\u001b[0m \u001b[0mtimestamp\u001b[0m\u001b[0;34m[\u001b[0m\u001b[0;34m:\u001b[0m\u001b[0;34m:\u001b[0m\u001b[0;36m10\u001b[0m\u001b[0;34m]\u001b[0m\u001b[0;34m,\u001b[0m \u001b[0mrotation\u001b[0m \u001b[0;34m=\u001b[0m \u001b[0;34m'45'\u001b[0m\u001b[0;34m)\u001b[0m\u001b[0;34m\u001b[0m\u001b[0;34m\u001b[0m\u001b[0m\n",
      "\u001b[0;32m~/lib/anaconda3/envs/gcstf/lib/python3.7/site-packages/pandas/plotting/_core.py\u001b[0m in \u001b[0;36m__call__\u001b[0;34m(self, *args, **kwargs)\u001b[0m\n\u001b[1;32m    792\u001b[0m                     \u001b[0mdata\u001b[0m\u001b[0;34m.\u001b[0m\u001b[0mcolumns\u001b[0m \u001b[0;34m=\u001b[0m \u001b[0mlabel_name\u001b[0m\u001b[0;34m\u001b[0m\u001b[0;34m\u001b[0m\u001b[0m\n\u001b[1;32m    793\u001b[0m \u001b[0;34m\u001b[0m\u001b[0m\n\u001b[0;32m--> 794\u001b[0;31m         \u001b[0;32mreturn\u001b[0m \u001b[0mplot_backend\u001b[0m\u001b[0;34m.\u001b[0m\u001b[0mplot\u001b[0m\u001b[0;34m(\u001b[0m\u001b[0mdata\u001b[0m\u001b[0;34m,\u001b[0m \u001b[0mkind\u001b[0m\u001b[0;34m=\u001b[0m\u001b[0mkind\u001b[0m\u001b[0;34m,\u001b[0m \u001b[0;34m**\u001b[0m\u001b[0mkwargs\u001b[0m\u001b[0;34m)\u001b[0m\u001b[0;34m\u001b[0m\u001b[0;34m\u001b[0m\u001b[0m\n\u001b[0m\u001b[1;32m    795\u001b[0m \u001b[0;34m\u001b[0m\u001b[0m\n\u001b[1;32m    796\u001b[0m     \u001b[0;32mdef\u001b[0m \u001b[0mline\u001b[0m\u001b[0;34m(\u001b[0m\u001b[0mself\u001b[0m\u001b[0;34m,\u001b[0m \u001b[0mx\u001b[0m\u001b[0;34m=\u001b[0m\u001b[0;32mNone\u001b[0m\u001b[0;34m,\u001b[0m \u001b[0my\u001b[0m\u001b[0;34m=\u001b[0m\u001b[0;32mNone\u001b[0m\u001b[0;34m,\u001b[0m \u001b[0;34m**\u001b[0m\u001b[0mkwargs\u001b[0m\u001b[0;34m)\u001b[0m\u001b[0;34m:\u001b[0m\u001b[0;34m\u001b[0m\u001b[0;34m\u001b[0m\u001b[0m\n",
      "\u001b[0;32m~/lib/anaconda3/envs/gcstf/lib/python3.7/site-packages/pandas/plotting/_matplotlib/__init__.py\u001b[0m in \u001b[0;36mplot\u001b[0;34m(data, kind, **kwargs)\u001b[0m\n\u001b[1;32m     60\u001b[0m             \u001b[0mkwargs\u001b[0m\u001b[0;34m[\u001b[0m\u001b[0;34m\"ax\"\u001b[0m\u001b[0;34m]\u001b[0m \u001b[0;34m=\u001b[0m \u001b[0mgetattr\u001b[0m\u001b[0;34m(\u001b[0m\u001b[0max\u001b[0m\u001b[0;34m,\u001b[0m \u001b[0;34m\"left_ax\"\u001b[0m\u001b[0;34m,\u001b[0m \u001b[0max\u001b[0m\u001b[0;34m)\u001b[0m\u001b[0;34m\u001b[0m\u001b[0;34m\u001b[0m\u001b[0m\n\u001b[1;32m     61\u001b[0m     \u001b[0mplot_obj\u001b[0m \u001b[0;34m=\u001b[0m \u001b[0mPLOT_CLASSES\u001b[0m\u001b[0;34m[\u001b[0m\u001b[0mkind\u001b[0m\u001b[0;34m]\u001b[0m\u001b[0;34m(\u001b[0m\u001b[0mdata\u001b[0m\u001b[0;34m,\u001b[0m \u001b[0;34m**\u001b[0m\u001b[0mkwargs\u001b[0m\u001b[0;34m)\u001b[0m\u001b[0;34m\u001b[0m\u001b[0;34m\u001b[0m\u001b[0m\n\u001b[0;32m---> 62\u001b[0;31m     \u001b[0mplot_obj\u001b[0m\u001b[0;34m.\u001b[0m\u001b[0mgenerate\u001b[0m\u001b[0;34m(\u001b[0m\u001b[0;34m)\u001b[0m\u001b[0;34m\u001b[0m\u001b[0;34m\u001b[0m\u001b[0m\n\u001b[0m\u001b[1;32m     63\u001b[0m     \u001b[0mplot_obj\u001b[0m\u001b[0;34m.\u001b[0m\u001b[0mdraw\u001b[0m\u001b[0;34m(\u001b[0m\u001b[0;34m)\u001b[0m\u001b[0;34m\u001b[0m\u001b[0;34m\u001b[0m\u001b[0m\n\u001b[1;32m     64\u001b[0m     \u001b[0;32mreturn\u001b[0m \u001b[0mplot_obj\u001b[0m\u001b[0;34m.\u001b[0m\u001b[0mresult\u001b[0m\u001b[0;34m\u001b[0m\u001b[0;34m\u001b[0m\u001b[0m\n",
      "\u001b[0;32m~/lib/anaconda3/envs/gcstf/lib/python3.7/site-packages/pandas/plotting/_matplotlib/core.py\u001b[0m in \u001b[0;36mgenerate\u001b[0;34m(self)\u001b[0m\n\u001b[1;32m    277\u001b[0m     \u001b[0;32mdef\u001b[0m \u001b[0mgenerate\u001b[0m\u001b[0;34m(\u001b[0m\u001b[0mself\u001b[0m\u001b[0;34m)\u001b[0m\u001b[0;34m:\u001b[0m\u001b[0;34m\u001b[0m\u001b[0;34m\u001b[0m\u001b[0m\n\u001b[1;32m    278\u001b[0m         \u001b[0mself\u001b[0m\u001b[0;34m.\u001b[0m\u001b[0m_args_adjust\u001b[0m\u001b[0;34m(\u001b[0m\u001b[0;34m)\u001b[0m\u001b[0;34m\u001b[0m\u001b[0;34m\u001b[0m\u001b[0m\n\u001b[0;32m--> 279\u001b[0;31m         \u001b[0mself\u001b[0m\u001b[0;34m.\u001b[0m\u001b[0m_compute_plot_data\u001b[0m\u001b[0;34m(\u001b[0m\u001b[0;34m)\u001b[0m\u001b[0;34m\u001b[0m\u001b[0;34m\u001b[0m\u001b[0m\n\u001b[0m\u001b[1;32m    280\u001b[0m         \u001b[0mself\u001b[0m\u001b[0;34m.\u001b[0m\u001b[0m_setup_subplots\u001b[0m\u001b[0;34m(\u001b[0m\u001b[0;34m)\u001b[0m\u001b[0;34m\u001b[0m\u001b[0;34m\u001b[0m\u001b[0m\n\u001b[1;32m    281\u001b[0m         \u001b[0mself\u001b[0m\u001b[0;34m.\u001b[0m\u001b[0m_make_plot\u001b[0m\u001b[0;34m(\u001b[0m\u001b[0;34m)\u001b[0m\u001b[0;34m\u001b[0m\u001b[0;34m\u001b[0m\u001b[0m\n",
      "\u001b[0;32m~/lib/anaconda3/envs/gcstf/lib/python3.7/site-packages/pandas/plotting/_matplotlib/core.py\u001b[0m in \u001b[0;36m_compute_plot_data\u001b[0;34m(self)\u001b[0m\n\u001b[1;32m    412\u001b[0m         \u001b[0;31m# no non-numeric frames or series allowed\u001b[0m\u001b[0;34m\u001b[0m\u001b[0;34m\u001b[0m\u001b[0;34m\u001b[0m\u001b[0m\n\u001b[1;32m    413\u001b[0m         \u001b[0;32mif\u001b[0m \u001b[0mis_empty\u001b[0m\u001b[0;34m:\u001b[0m\u001b[0;34m\u001b[0m\u001b[0;34m\u001b[0m\u001b[0m\n\u001b[0;32m--> 414\u001b[0;31m             \u001b[0;32mraise\u001b[0m \u001b[0mTypeError\u001b[0m\u001b[0;34m(\u001b[0m\u001b[0;34m\"no numeric data to plot\"\u001b[0m\u001b[0;34m)\u001b[0m\u001b[0;34m\u001b[0m\u001b[0;34m\u001b[0m\u001b[0m\n\u001b[0m\u001b[1;32m    415\u001b[0m \u001b[0;34m\u001b[0m\u001b[0m\n\u001b[1;32m    416\u001b[0m         \u001b[0;31m# GH25587: cast ExtensionArray of pandas (IntegerArray, etc.) to\u001b[0m\u001b[0;34m\u001b[0m\u001b[0;34m\u001b[0m\u001b[0;34m\u001b[0m\u001b[0m\n",
      "\u001b[0;31mTypeError\u001b[0m: no numeric data to plot"
     ]
    },
    {
     "data": {
      "image/png": "[encoded data removed]",
      "text/plain": [
       "<Figure size 1080x360 with 1 Axes>"
      ]
     },
     "metadata": {
      "needs_background": "light"
     },
     "output_type": "display_data"
    }
   ],
   "source": [
    "fig, ax = plt.subplots(figsize = (15, 5))\n",
    "df_crosscorrelated.plot(\n",
    "    x = 'timestamp', y = ['selling', 'ma7', 'ma14', 'ma21'], ax = ax\n",
    ")\n",
    "plt.xticks(np.arange(len(timestamp))[::10], timestamp[::10], rotation = '45')\n",
    "plt.show()"
   ]
  },
  {
   "cell_type": "markdown",
   "metadata": {},
   "source": [
    "As you can see, even moving average 7 already not followed sudden trending (blue line), means that, **dilation rate required less than 7 days! so fast!**\n",
    "\n",
    "#### How about correlation?\n",
    "\n",
    "We want to study linear relationship between, how many days required to give impact to future sold units?"
   ]
  },
  {
   "cell_type": "code",
   "execution_count": null,
   "metadata": {},
   "outputs": [],
   "source": [
    "colormap = plt.cm.RdBu\n",
    "plt.figure(figsize = (15, 5))\n",
    "plt.title('cross correlation', y = 1.05, size = 16)\n",
    "\n",
    "sns.heatmap(\n",
    "    df_crosscorrelated.iloc[:, 1:].corr(),\n",
    "    linewidths = 0.1,\n",
    "    vmax = 1.0,\n",
    "    cmap = colormap,\n",
    "    linecolor = 'white',\n",
    "    annot = True,\n",
    ")\n",
    "plt.show()"
   ]
  },
  {
   "cell_type": "markdown",
   "metadata": {},
   "source": [
    "Based on this correlation map, look at selling vs selling_X,\n",
    "\n",
    "**selling_X from 4 to 12 is getting lower, means that, if today is 50 mean, next 4 days should increased by 0.95 * 50 mean, and continue.**"
   ]
  },
  {
   "cell_type": "markdown",
   "metadata": {},
   "source": [
    "#### Outliers\n",
    "\n",
    "Simple, we can use Z-score to detect outliers, which timestamps gave very uncertain high and low value."
   ]
  },
  {
   "cell_type": "code",
   "execution_count": null,
   "metadata": {},
   "outputs": [],
   "source": [
    "std_selling = (selling - np.mean(selling)) / np.std(selling)"
   ]
  },
  {
   "cell_type": "code",
   "execution_count": null,
   "metadata": {},
   "outputs": [],
   "source": [
    "def detect(signal, treshold = 2.0):\n",
    "    detected = []\n",
    "    for i in range(len(signal)):\n",
    "        if np.abs(signal[i]) > treshold:\n",
    "            detected.append(i)\n",
    "    return detected"
   ]
  },
  {
   "cell_type": "markdown",
   "metadata": {},
   "source": [
    "Based on z-score table, 2.0 already positioned at 97.772% of the population.\n",
    "\n",
    "https://d2jmvrsizmvf4x.cloudfront.net/6iEAaVSaT3aGP52HMzo3_z-score-02.png"
   ]
  },
  {
   "cell_type": "code",
   "execution_count": null,
   "metadata": {},
   "outputs": [],
   "source": [
    "outliers = detect(std_selling)"
   ]
  },
  {
   "cell_type": "code",
   "execution_count": null,
   "metadata": {},
   "outputs": [],
   "source": [
    "plt.figure(figsize = (15, 7))\n",
    "plt.plot(selling)\n",
    "plt.plot(\n",
    "    np.arange(len(selling)),\n",
    "    selling,\n",
    "    'X',\n",
    "    label = 'outliers',\n",
    "    markevery = outliers,\n",
    "    c = 'r',\n",
    ")\n",
    "plt.legend()\n",
    "plt.show()"
   ]
  },
  {
   "cell_type": "markdown",
   "metadata": {},
   "source": [
    "We can see that, **we have positive and negative outliers**. What happened to our local market on that days? So we should study sentiment from local news to do risk analysis."
   ]
  },
  {
   "cell_type": "markdown",
   "metadata": {},
   "source": [
    "# Give us predictive modelling!\n",
    "\n",
    "Okay okay."
   ]
  },
  {
   "cell_type": "markdown",
   "metadata": {},
   "source": [
    "## Predictive modelling\n",
    "\n",
    "Like I said, I want to compare with 3 models,\n",
    "\n",
    "1. Linear regression\n",
    "2. ARIMA\n",
    "3. LSTM Tensorflow (sorry Pytorch, not used to it)\n",
    "\n",
    "Which models give the best accuracy and lowest error rate?\n",
    "\n",
    "**I want to split first timestamp 80% for train, another 20% timestamp for test.**"
   ]
  },
  {
   "cell_type": "code",
   "execution_count": null,
   "metadata": {},
   "outputs": [],
   "source": [
    "from sklearn.linear_model import LinearRegression"
   ]
  },
  {
   "cell_type": "code",
   "execution_count": null,
   "metadata": {},
   "outputs": [],
   "source": [
    "train_selling = selling[: int(0.8 * len(selling))]\n",
    "test_selling = selling[int(0.8 * len(selling)) :]"
   ]
  },
  {
   "cell_type": "markdown",
   "metadata": {},
   "source": [
    "Beware of `:`!"
   ]
  },
  {
   "cell_type": "code",
   "execution_count": null,
   "metadata": {},
   "outputs": [],
   "source": [
    "future_count = len(test_selling)\n",
    "future_count"
   ]
  },
  {
   "cell_type": "markdown",
   "metadata": {},
   "source": [
    "Our model should forecast 61 future days ahead."
   ]
  },
  {
   "cell_type": "markdown",
   "metadata": {},
   "source": [
    "#### Linear regression"
   ]
  },
  {
   "cell_type": "code",
   "execution_count": null,
   "metadata": {},
   "outputs": [],
   "source": [
    "%%time\n",
    "linear_regression = LinearRegression().fit(\n",
    "    np.arange(len(train_selling)).reshape((-1, 1)), train_selling\n",
    ")\n",
    "linear_future = linear_regression.predict(\n",
    "    np.arange(len(train_selling) + future_count).reshape((-1, 1))\n",
    ")"
   ]
  },
  {
   "cell_type": "markdown",
   "metadata": {},
   "source": [
    "Took me 594 us to train linear regression from sklearn. Very quick!"
   ]
  },
  {
   "cell_type": "code",
   "execution_count": null,
   "metadata": {},
   "outputs": [],
   "source": [
    "fig, ax = plt.subplots(figsize = (15, 5))\n",
    "ax.plot(selling, label = '20% test trend')\n",
    "ax.plot(train_selling, label = '80% train trend')\n",
    "ax.plot(linear_future, label = 'forecast linear regression')\n",
    "plt.xticks(\n",
    "    np.arange(len(timestamp))[::10],\n",
    "    np.arange(len(timestamp))[::10],\n",
    "    rotation = '45',\n",
    ")\n",
    "plt.legend()\n",
    "plt.show()"
   ]
  },
  {
   "cell_type": "markdown",
   "metadata": {},
   "source": [
    "Oh no, if based on linear relationship, the trend is going down!"
   ]
  },
  {
   "cell_type": "markdown",
   "metadata": {},
   "source": [
    "#### ARIMA\n",
    "\n",
    "Stands for Auto-regressive Moving Average.\n",
    "\n",
    "3 important parameters you need to know about ARIMA, ARIMA(p, d, q). You will able to see what is `p`, `d`, `q` from wikipedia, https://en.wikipedia.org/wiki/Autoregressive_integrated_moving_average.\n",
    "\n",
    "`p` for the order (number of time lags).\n",
    "\n",
    "`d` for degree of differencing.\n",
    "\n",
    "`q` for the order of the moving-average.\n",
    "\n",
    "Or,\n",
    "\n",
    "`p` is how long the periods we need to look back.\n",
    "\n",
    "`d` is the skip value during calculating future differences.\n",
    "\n",
    "`q` is how many periods for moving average."
   ]
  },
  {
   "cell_type": "code",
   "execution_count": null,
   "metadata": {},
   "outputs": [],
   "source": [
    "import statsmodels.api as sm\n",
    "from sklearn.preprocessing import MinMaxScaler\n",
    "from itertools import product\n",
    "\n",
    "Qs = range(0, 2)\n",
    "qs = range(0, 2)\n",
    "Ps = range(0, 2)\n",
    "ps = range(0, 2)\n",
    "D = 1\n",
    "parameters = product(ps, qs, Ps, Qs)\n",
    "parameters_list = list(parameters)"
   ]
  },
  {
   "cell_type": "markdown",
   "metadata": {},
   "source": [
    "Problem with ARIMA, you cannot feed a high value, so we need to scale, simplest we can use, minmax scaling."
   ]
  },
  {
   "cell_type": "code",
   "execution_count": null,
   "metadata": {},
   "outputs": [],
   "source": [
    "minmax = MinMaxScaler().fit(np.array([train_selling]).T)\n",
    "minmax_values = minmax.transform(np.array([train_selling]).T)"
   ]
  },
  {
   "cell_type": "markdown",
   "metadata": {},
   "source": [
    "Now using naive meshgrid parameter searching, which pairs of parameters are the best! **Lower is better!**"
   ]
  },
  {
   "cell_type": "code",
   "execution_count": null,
   "metadata": {},
   "outputs": [],
   "source": [
    "best_aic = float('inf')\n",
    "for param in parameters_list:\n",
    "    try:\n",
    "        model = sm.tsa.statespace.SARIMAX(\n",
    "            minmax_values[:, 0],\n",
    "            order = (param[0], D, param[1]),\n",
    "            seasonal_order = (param[2], D, param[3], future_count),\n",
    "        ).fit(disp = -1)\n",
    "    except Exception as e:\n",
    "        print(e)\n",
    "        continue\n",
    "    aic = model.aic\n",
    "    print(aic)\n",
    "    if aic < best_aic and aic:\n",
    "        best_model = model\n",
    "        best_aic = aic\n",
    "\n",
    "arima_future = best_model.get_prediction(\n",
    "    start = 0, end = len(train_selling) + (future_count - 1)\n",
    ")\n",
    "arima_future = minmax.inverse_transform(\n",
    "    np.expand_dims(arima_future.predicted_mean, axis = 1)\n",
    ")[:, 0]"
   ]
  },
  {
   "cell_type": "code",
   "execution_count": null,
   "metadata": {},
   "outputs": [],
   "source": [
    "fig, ax = plt.subplots(figsize = (15, 5))\n",
    "ax.plot(selling, label = '20% test trend')\n",
    "ax.plot(train_selling, label = '80% train trend')\n",
    "ax.plot(linear_future, label = 'forecast linear regression')\n",
    "ax.plot(arima_future, label = 'forecast ARIMA')\n",
    "plt.xticks(\n",
    "    np.arange(len(timestamp))[::10],\n",
    "    np.arange(len(timestamp))[::10],\n",
    "    rotation = '45',\n",
    ")\n",
    "plt.legend()\n",
    "plt.show()"
   ]
  },
  {
   "cell_type": "markdown",
   "metadata": {},
   "source": [
    "Perfect!\n",
    "\n",
    "Now we left,\n",
    "\n",
    "#### RNN + LSTM"
   ]
  },
  {
   "cell_type": "code",
   "execution_count": null,
   "metadata": {},
   "outputs": [],
   "source": [
    "import tensorflow as tf"
   ]
  },
  {
   "cell_type": "code",
   "execution_count": null,
   "metadata": {},
   "outputs": [],
   "source": [
    "class Model:\n",
    "    def __init__(\n",
    "        self,\n",
    "        learning_rate,\n",
    "        num_layers,\n",
    "        size,\n",
    "        size_layer,\n",
    "        output_size,\n",
    "        forget_bias = 0.1,\n",
    "    ):\n",
    "        def lstm_cell(size_layer):\n",
    "            return tf.nn.rnn_cell.LSTMCell(size_layer, state_is_tuple = False)\n",
    "\n",
    "        rnn_cells = tf.nn.rnn_cell.MultiRNNCell(\n",
    "            [lstm_cell(size_layer) for _ in range(num_layers)],\n",
    "            state_is_tuple = False,\n",
    "        )\n",
    "        self.X = tf.placeholder(tf.float32, (None, None, size))\n",
    "        self.Y = tf.placeholder(tf.float32, (None, output_size))\n",
    "        drop = tf.contrib.rnn.DropoutWrapper(\n",
    "            rnn_cells, output_keep_prob = forget_bias\n",
    "        )\n",
    "        self.hidden_layer = tf.placeholder(\n",
    "            tf.float32, (None, num_layers * 2 * size_layer)\n",
    "        )\n",
    "        self.outputs, self.last_state = tf.nn.dynamic_rnn(\n",
    "            drop, self.X, initial_state = self.hidden_layer, dtype = tf.float32\n",
    "        )\n",
    "        self.logits = tf.layers.dense(self.outputs[-1], output_size)\n",
    "        self.cost = tf.reduce_mean(tf.square(self.Y - self.logits))\n",
    "        self.optimizer = tf.train.AdamOptimizer(learning_rate).minimize(\n",
    "            self.cost\n",
    "        )"
   ]
  },
  {
   "cell_type": "markdown",
   "metadata": {},
   "source": [
    "**Naively defined neural network parameters, no meshgrid here. this parameters came from my dream, believe me :)**"
   ]
  },
  {
   "cell_type": "code",
   "execution_count": null,
   "metadata": {},
   "outputs": [],
   "source": [
    "num_layers = 1\n",
    "size_layer = 128\n",
    "epoch = 500\n",
    "dropout_rate = 0.6\n",
    "skip = 10"
   ]
  },
  {
   "cell_type": "markdown",
   "metadata": {},
   "source": [
    "Same goes to LSTM, we need to scale our value becaused LSTM use sigmoid and tanh functions during feed-forward, we don't want any gradient vanishing during backpropagation."
   ]
  },
  {
   "cell_type": "code",
   "execution_count": null,
   "metadata": {},
   "outputs": [],
   "source": [
    "df = pd.DataFrame({'values': train_selling})\n",
    "minmax = MinMaxScaler().fit(df)\n",
    "df_log = minmax.transform(df)\n",
    "df_log = pd.DataFrame(df_log)\n",
    "df_log.head()"
   ]
  },
  {
   "cell_type": "code",
   "execution_count": null,
   "metadata": {},
   "outputs": [],
   "source": [
    "tf.reset_default_graph()\n",
    "modelnn = Model(\n",
    "    learning_rate = 0.001, \n",
    "    num_layers = num_layers, \n",
    "    size = df_log.shape[1], \n",
    "    size_layer = size_layer, \n",
    "    output_size = df_log.shape[1], \n",
    "    forget_bias = dropout_rate\n",
    ")\n",
    "sess = tf.InteractiveSession()\n",
    "sess.run(tf.global_variables_initializer())"
   ]
  },
  {
   "cell_type": "code",
   "execution_count": null,
   "metadata": {},
   "outputs": [],
   "source": [
    "%%time\n",
    "\n",
    "for i in range(epoch):\n",
    "    init_value = np.zeros((1, num_layers * 2 * size_layer))\n",
    "    total_loss = 0\n",
    "    for k in range(0, df_log.shape[0] - 1, skip):\n",
    "        index = min(k + skip, df_log.shape[0] -1)\n",
    "        batch_x = np.expand_dims(\n",
    "            df_log.iloc[k : index, :].values, axis = 0\n",
    "        )\n",
    "        batch_y = df_log.iloc[k + 1 : index + 1, :].values\n",
    "        last_state, _, loss = sess.run(\n",
    "            [modelnn.last_state, modelnn.optimizer, modelnn.cost],\n",
    "            feed_dict = {\n",
    "                modelnn.X: batch_x,\n",
    "                modelnn.Y: batch_y,\n",
    "                modelnn.hidden_layer: init_value,\n",
    "            },\n",
    "        )\n",
    "        init_value = last_state\n",
    "        total_loss += loss\n",
    "    total_loss /= ((df_log.shape[0] - 1) / skip)\n",
    "    if (i + 1) % 100 == 0:\n",
    "        print('epoch:', i + 1, 'avg loss:', total_loss)"
   ]
  },
  {
   "cell_type": "code",
   "execution_count": null,
   "metadata": {},
   "outputs": [],
   "source": [
    "df = pd.DataFrame({'values': train_selling})\n",
    "minmax = MinMaxScaler().fit(df)\n",
    "df_log = minmax.transform(df)\n",
    "df_log = pd.DataFrame(df_log)\n",
    "future_day = future_count\n",
    "\n",
    "output_predict = np.zeros((df_log.shape[0] + future_day, df_log.shape[1]))\n",
    "output_predict[0] = df_log.iloc[0]\n",
    "upper_b = (df_log.shape[0] // skip) * skip\n",
    "init_value = np.zeros((1, num_layers * 2 * size_layer))\n",
    "for k in range(0, (df_log.shape[0] // skip) * skip, skip):\n",
    "    out_logits, last_state = sess.run(\n",
    "        [modelnn.logits, modelnn.last_state],\n",
    "        feed_dict = {\n",
    "            modelnn.X: np.expand_dims(\n",
    "                df_log.iloc[k : k + skip], axis = 0\n",
    "            ),\n",
    "            modelnn.hidden_layer: init_value,\n",
    "        },\n",
    "    )\n",
    "    init_value = last_state\n",
    "    output_predict[k + 1 : k + skip + 1] = out_logits\n",
    "\n",
    "if upper_b < df_log.shape[0]:\n",
    "    out_logits, last_state = sess.run(\n",
    "        [modelnn.logits, modelnn.last_state],\n",
    "        feed_dict = {\n",
    "            modelnn.X: np.expand_dims(df_log.iloc[upper_b:], axis = 0),\n",
    "            modelnn.hidden_layer: init_value,\n",
    "        },\n",
    "    )\n",
    "    init_value = last_state\n",
    "    output_predict[upper_b + 1 : df_log.shape[0] + 1] = out_logits\n",
    "    df_log.loc[df_log.shape[0]] = out_logits[-1]\n",
    "    future_day = future_day - 1\n",
    "    \n",
    "for i in range(future_day):\n",
    "    out_logits, last_state = sess.run(\n",
    "        [modelnn.logits, modelnn.last_state],\n",
    "        feed_dict = {\n",
    "            modelnn.X: np.expand_dims(df_log.iloc[-skip:], axis = 0),\n",
    "            modelnn.hidden_layer: init_value,\n",
    "        },\n",
    "    )\n",
    "    init_value = last_state\n",
    "    output_predict[df_log.shape[0]] = out_logits[-1]\n",
    "    df_log.loc[df_log.shape[0]] = out_logits[-1]"
   ]
  },
  {
   "cell_type": "code",
   "execution_count": null,
   "metadata": {},
   "outputs": [],
   "source": [
    "df_log = minmax.inverse_transform(output_predict)\n",
    "lstm_future = df_log[:,0]"
   ]
  },
  {
   "cell_type": "code",
   "execution_count": null,
   "metadata": {},
   "outputs": [],
   "source": [
    "fig, ax = plt.subplots(figsize = (15, 5))\n",
    "ax.plot(selling, label = '20% test trend')\n",
    "ax.plot(train_selling, label = '80% train trend')\n",
    "ax.plot(linear_future, label = 'forecast linear regression')\n",
    "ax.plot(arima_future, label = 'forecast ARIMA')\n",
    "ax.plot(lstm_future, label='forecast lstm')\n",
    "plt.xticks(\n",
    "    np.arange(len(timestamp))[::10],\n",
    "    np.arange(len(timestamp))[::10],\n",
    "    rotation = '45',\n",
    ")\n",
    "plt.legend()\n",
    "plt.show()"
   ]
  },
  {
   "cell_type": "code",
   "execution_count": null,
   "metadata": {},
   "outputs": [],
   "source": [
    "from sklearn.metrics import r2_score\n",
    "from scipy.stats import pearsonr, spearmanr"
   ]
  },
  {
   "cell_type": "markdown",
   "metadata": {},
   "source": [
    "Accuracy based on correlation coefficient, **higher is better!**"
   ]
  },
  {
   "cell_type": "code",
   "execution_count": null,
   "metadata": {},
   "outputs": [],
   "source": [
    "def calculate_accuracy(real, predict):\n",
    "    r2 = r2_score(real, predict)\n",
    "    if r2 < 0:\n",
    "        r2 = 0\n",
    "\n",
    "    def change_percentage(val): \n",
    "    # minmax, we know that correlation is between -1 and 1\n",
    "        if val > 0:\n",
    "            return val\n",
    "        else:\n",
    "            return val + 1\n",
    "\n",
    "    pearson = pearsonr(real, predict)[0]\n",
    "    spearman = spearmanr(real, predict)[0]\n",
    "    pearson = change_percentage(pearson)\n",
    "    spearman = change_percentage(spearman)\n",
    "    return {\n",
    "        'r2': r2 * 100,\n",
    "        'pearson': pearson * 100,\n",
    "        'spearman': spearman * 100,\n",
    "    }"
   ]
  },
  {
   "cell_type": "markdown",
   "metadata": {},
   "source": [
    "Distance error for mse and rmse, **lower is better!**"
   ]
  },
  {
   "cell_type": "code",
   "execution_count": null,
   "metadata": {},
   "outputs": [],
   "source": [
    "def calculate_distance(real, predict):\n",
    "    mse = ((real - predict) ** 2).mean()\n",
    "    rmse = np.sqrt(mse)\n",
    "    return {'mse': mse, 'rmse': rmse}"
   ]
  },
  {
   "cell_type": "markdown",
   "metadata": {},
   "source": [
    "#### Now let's check distance error using Mean Square Error and Root Mean Square Error\n",
    "\n",
    "Validating based on 80% training timestamps"
   ]
  },
  {
   "cell_type": "code",
   "execution_count": null,
   "metadata": {},
   "outputs": [],
   "source": [
    "linear_cut = linear_future[: len(train_selling)]\n",
    "arima_cut = arima_future[: len(train_selling)]\n",
    "lstm_cut = lstm_future[: len(train_selling)]"
   ]
  },
  {
   "cell_type": "markdown",
   "metadata": {},
   "source": [
    "Linear regression"
   ]
  },
  {
   "cell_type": "code",
   "execution_count": null,
   "metadata": {},
   "outputs": [],
   "source": [
    "calculate_distance(train_selling, linear_cut)"
   ]
  },
  {
   "cell_type": "code",
   "execution_count": null,
   "metadata": {},
   "outputs": [],
   "source": [
    "calculate_accuracy(train_selling, linear_cut)"
   ]
  },
  {
   "cell_type": "markdown",
   "metadata": {},
   "source": [
    "ARIMA"
   ]
  },
  {
   "cell_type": "code",
   "execution_count": null,
   "metadata": {},
   "outputs": [],
   "source": [
    "calculate_distance(train_selling, arima_cut)"
   ]
  },
  {
   "cell_type": "code",
   "execution_count": null,
   "metadata": {},
   "outputs": [],
   "source": [
    "calculate_accuracy(train_selling, arima_cut)"
   ]
  },
  {
   "cell_type": "markdown",
   "metadata": {},
   "source": [
    "LSTM"
   ]
  },
  {
   "cell_type": "code",
   "execution_count": null,
   "metadata": {},
   "outputs": [],
   "source": [
    "calculate_distance(train_selling, lstm_cut)"
   ]
  },
  {
   "cell_type": "code",
   "execution_count": null,
   "metadata": {},
   "outputs": [],
   "source": [
    "calculate_accuracy(train_selling, lstm_cut)"
   ]
  },
  {
   "cell_type": "markdown",
   "metadata": {},
   "source": [
    "**LSTM learn better during training session!**\n",
    "\n",
    "How about another 20%?"
   ]
  },
  {
   "cell_type": "code",
   "execution_count": null,
   "metadata": {},
   "outputs": [],
   "source": [
    "linear_cut = linear_future[len(train_selling) :]\n",
    "arima_cut = arima_future[len(train_selling) :]\n",
    "lstm_cut = lstm_future[len(train_selling) :]"
   ]
  },
  {
   "cell_type": "markdown",
   "metadata": {},
   "source": [
    "Linear regression"
   ]
  },
  {
   "cell_type": "code",
   "execution_count": null,
   "metadata": {},
   "outputs": [],
   "source": [
    "calculate_distance(test_selling, linear_cut)"
   ]
  },
  {
   "cell_type": "code",
   "execution_count": null,
   "metadata": {},
   "outputs": [],
   "source": [
    "calculate_accuracy(test_selling, linear_cut)"
   ]
  },
  {
   "cell_type": "markdown",
   "metadata": {},
   "source": [
    "ARIMA"
   ]
  },
  {
   "cell_type": "code",
   "execution_count": null,
   "metadata": {},
   "outputs": [],
   "source": [
    "calculate_distance(test_selling, arima_cut)"
   ]
  },
  {
   "cell_type": "code",
   "execution_count": null,
   "metadata": {},
   "outputs": [],
   "source": [
    "calculate_accuracy(test_selling, arima_cut)"
   ]
  },
  {
   "cell_type": "markdown",
   "metadata": {},
   "source": [
    "LSTM"
   ]
  },
  {
   "cell_type": "code",
   "execution_count": null,
   "metadata": {},
   "outputs": [],
   "source": [
    "calculate_distance(test_selling, lstm_cut)"
   ]
  },
  {
   "cell_type": "code",
   "execution_count": null,
   "metadata": {},
   "outputs": [],
   "source": [
    "calculate_accuracy(test_selling, lstm_cut)"
   ]
  },
  {
   "cell_type": "markdown",
   "metadata": {},
   "source": [
    "**LSTM is the best model based on testing!**\n",
    "\n",
    "Deep learning won again!"
   ]
  },
  {
   "cell_type": "markdown",
   "metadata": {},
   "source": [
    "I guess that's all for now, **again, do not use these models to buy any stocks or trends!**"
   ]
  }
 ],
 "metadata": {
  "kernelspec": {
   "display_name": "gcstf",
   "language": "python",
   "name": "gcstf"
  },
  "language_info": {
   "codemirror_mode": {
    "name": "ipython",
    "version": 3
   },
   "file_extension": ".py",
   "mimetype": "text/x-python",
   "name": "python",
   "nbconvert_exporter": "python",
   "pygments_lexer": "ipython3",
   "version": "3.7.3"
  },
  "varInspector": {
   "cols": {
    "lenName": 16,
    "lenType": 16,
    "lenVar": 40
   },
   "kernels_config": {
    "python": {
     "delete_cmd_postfix": "",
     "delete_cmd_prefix": "del ",
     "library": "var_list.py",
     "varRefreshCmd": "print(var_dic_list())"
    },
    "r": {
     "delete_cmd_postfix": ") ",
     "delete_cmd_prefix": "rm(",
     "library": "var_list.r",
     "varRefreshCmd": "cat(var_dic_list()) "
    }
   },
   "types_to_exclude": [
    "module",
    "function",
    "builtin_function_or_method",
    "instance",
    "_Feature"
   ],
   "window_display": false
  }
 },
 "nbformat": 4,
 "nbformat_minor": 4
}
